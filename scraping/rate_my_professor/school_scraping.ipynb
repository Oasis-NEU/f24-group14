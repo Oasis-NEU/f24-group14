{
 "cells": [
  {
   "cell_type": "markdown",
   "source": [
    "##### Import Necessary Libraries"
   ],
   "metadata": {
    "collapsed": false
   },
   "id": "ea3a4141b1f6d7fc"
  },
  {
   "cell_type": "code",
   "execution_count": 35,
   "id": "5d838fddcf08b3b8",
   "metadata": {
    "collapsed": true,
    "ExecuteTime": {
     "end_time": "2024-09-24T02:46:01.368180Z",
     "start_time": "2024-09-24T02:46:01.355442Z"
    }
   },
   "outputs": [
    {
     "data": {
      "text/plain": "<module 'data_scrape' from '/Users/owensharpe/Desktop/Coding/Personal/OASIS Project/data_scrape.py'>"
     },
     "execution_count": 35,
     "metadata": {},
     "output_type": "execute_result"
    }
   ],
   "source": [
    "from ratemyprof_api import RateMyProfApi\n",
    "import pandas as pd\n",
    "import data_scrape\n",
    "import importlib\n",
    "\n",
    "importlib.reload(data_scrape)"
   ]
  },
  {
   "cell_type": "markdown",
   "source": [
    "##### Create Initial Use of Rate My Professor API"
   ],
   "metadata": {
    "collapsed": false
   },
   "id": "be92cbe56e6719f9"
  },
  {
   "cell_type": "code",
   "execution_count": 36,
   "outputs": [],
   "source": [
    "# call the rate my professor API\n",
    "NortheasternUniversity = RateMyProfApi('696')\n",
    "professor_data = NortheasternUniversity.get_professors()"
   ],
   "metadata": {
    "collapsed": false,
    "ExecuteTime": {
     "end_time": "2024-09-24T02:46:28.135735Z",
     "start_time": "2024-09-24T02:46:01.360474Z"
    }
   },
   "id": "initial_id"
  },
  {
   "cell_type": "markdown",
   "source": [
    "##### Convert Required Data to a DataFrame"
   ],
   "metadata": {
    "collapsed": false
   },
   "id": "d93cf6fb3fe7c934"
  },
  {
   "cell_type": "code",
   "execution_count": 37,
   "outputs": [
    {
     "data": {
      "text/plain": "          tDept tSid         institution_name     tFname tMiddlename  \\\n0    Biomedical  696  Northeastern University      Anand               \n1  Anthropology  696  Northeastern University     Jelena               \n2      Business  696  Northeastern University    Faizul                \n3      Business  696  Northeastern University       Juyi               \n4    Psychology  696  Northeastern University  Markysha                \n\n       tLname      tid  tNumRatings rating_class contentType categoryType  \\\n0   Asthagiri  2894891            1         good     TEACHER    PROFESSOR   \n1   Golubovic  2961788            0         zero     TEACHER    PROFESSOR   \n2         Huq  2854044            7      average     TEACHER    PROFESSOR   \n3         Lyu  2999528            0         zero     TEACHER    PROFESSOR   \n4      Martin  2922383            0         zero     TEACHER    PROFESSOR   \n\n  overall_rating  \n0            5.0  \n1            N/A  \n2            2.6  \n3            N/A  \n4            N/A  ",
      "text/html": "<div>\n<style scoped>\n    .dataframe tbody tr th:only-of-type {\n        vertical-align: middle;\n    }\n\n    .dataframe tbody tr th {\n        vertical-align: top;\n    }\n\n    .dataframe thead th {\n        text-align: right;\n    }\n</style>\n<table border=\"1\" class=\"dataframe\">\n  <thead>\n    <tr style=\"text-align: right;\">\n      <th></th>\n      <th>tDept</th>\n      <th>tSid</th>\n      <th>institution_name</th>\n      <th>tFname</th>\n      <th>tMiddlename</th>\n      <th>tLname</th>\n      <th>tid</th>\n      <th>tNumRatings</th>\n      <th>rating_class</th>\n      <th>contentType</th>\n      <th>categoryType</th>\n      <th>overall_rating</th>\n    </tr>\n  </thead>\n  <tbody>\n    <tr>\n      <th>0</th>\n      <td>Biomedical</td>\n      <td>696</td>\n      <td>Northeastern University</td>\n      <td>Anand</td>\n      <td></td>\n      <td>Asthagiri</td>\n      <td>2894891</td>\n      <td>1</td>\n      <td>good</td>\n      <td>TEACHER</td>\n      <td>PROFESSOR</td>\n      <td>5.0</td>\n    </tr>\n    <tr>\n      <th>1</th>\n      <td>Anthropology</td>\n      <td>696</td>\n      <td>Northeastern University</td>\n      <td>Jelena</td>\n      <td></td>\n      <td>Golubovic</td>\n      <td>2961788</td>\n      <td>0</td>\n      <td>zero</td>\n      <td>TEACHER</td>\n      <td>PROFESSOR</td>\n      <td>N/A</td>\n    </tr>\n    <tr>\n      <th>2</th>\n      <td>Business</td>\n      <td>696</td>\n      <td>Northeastern University</td>\n      <td>Faizul</td>\n      <td></td>\n      <td>Huq</td>\n      <td>2854044</td>\n      <td>7</td>\n      <td>average</td>\n      <td>TEACHER</td>\n      <td>PROFESSOR</td>\n      <td>2.6</td>\n    </tr>\n    <tr>\n      <th>3</th>\n      <td>Business</td>\n      <td>696</td>\n      <td>Northeastern University</td>\n      <td>Juyi</td>\n      <td></td>\n      <td>Lyu</td>\n      <td>2999528</td>\n      <td>0</td>\n      <td>zero</td>\n      <td>TEACHER</td>\n      <td>PROFESSOR</td>\n      <td>N/A</td>\n    </tr>\n    <tr>\n      <th>4</th>\n      <td>Psychology</td>\n      <td>696</td>\n      <td>Northeastern University</td>\n      <td>Markysha</td>\n      <td></td>\n      <td>Martin</td>\n      <td>2922383</td>\n      <td>0</td>\n      <td>zero</td>\n      <td>TEACHER</td>\n      <td>PROFESSOR</td>\n      <td>N/A</td>\n    </tr>\n  </tbody>\n</table>\n</div>"
     },
     "execution_count": 37,
     "metadata": {},
     "output_type": "execute_result"
    }
   ],
   "source": [
    "# get temporary professor data\n",
    "prof_df = pd.DataFrame(professor_data)\n",
    "prof_df.head()"
   ],
   "metadata": {
    "collapsed": false,
    "ExecuteTime": {
     "end_time": "2024-09-24T02:46:28.173109Z",
     "start_time": "2024-09-24T02:46:28.159974Z"
    }
   },
   "id": "b2cf9f4a7730c9fc"
  },
  {
   "cell_type": "markdown",
   "source": [
    "##### Filter Necessary Data"
   ],
   "metadata": {
    "collapsed": false
   },
   "id": "f3279eb2f3ea58e2"
  },
  {
   "cell_type": "code",
   "execution_count": 38,
   "outputs": [
    {
     "data": {
      "text/plain": "     First Name Middle Name   Last Name       ID      Department  \\\n0         Anand               Asthagiri  2894891      Biomedical   \n1        Jelena               Golubovic  2961788    Anthropology   \n2       Faizul                      Huq  2854044        Business   \n3          Juyi                     Lyu  2999528        Business   \n4     Markysha                   Martin  2922383      Psychology   \n...         ...         ...         ...      ...             ...   \n3487      Steve                  Zoloth  2330269  Health Science   \n3488      Steve                  Zoloth  2330268       Sociology   \n3489    Gregory                    Zuch   540413         Writing   \n3490  Ronald C.                   Zullo  1393308      Accounting   \n3491    Günther         K.H      Zupanc  1886247         Biology   \n\n             Institution Name Institution ID  \n0     Northeastern University            696  \n1     Northeastern University            696  \n2     Northeastern University            696  \n3     Northeastern University            696  \n4     Northeastern University            696  \n...                       ...            ...  \n3487  Northeastern University            696  \n3488  Northeastern University            696  \n3489  Northeastern University            696  \n3490  Northeastern University            696  \n3491  Northeastern University            696  \n\n[3490 rows x 7 columns]",
      "text/html": "<div>\n<style scoped>\n    .dataframe tbody tr th:only-of-type {\n        vertical-align: middle;\n    }\n\n    .dataframe tbody tr th {\n        vertical-align: top;\n    }\n\n    .dataframe thead th {\n        text-align: right;\n    }\n</style>\n<table border=\"1\" class=\"dataframe\">\n  <thead>\n    <tr style=\"text-align: right;\">\n      <th></th>\n      <th>First Name</th>\n      <th>Middle Name</th>\n      <th>Last Name</th>\n      <th>ID</th>\n      <th>Department</th>\n      <th>Institution Name</th>\n      <th>Institution ID</th>\n    </tr>\n  </thead>\n  <tbody>\n    <tr>\n      <th>0</th>\n      <td>Anand</td>\n      <td></td>\n      <td>Asthagiri</td>\n      <td>2894891</td>\n      <td>Biomedical</td>\n      <td>Northeastern University</td>\n      <td>696</td>\n    </tr>\n    <tr>\n      <th>1</th>\n      <td>Jelena</td>\n      <td></td>\n      <td>Golubovic</td>\n      <td>2961788</td>\n      <td>Anthropology</td>\n      <td>Northeastern University</td>\n      <td>696</td>\n    </tr>\n    <tr>\n      <th>2</th>\n      <td>Faizul</td>\n      <td></td>\n      <td>Huq</td>\n      <td>2854044</td>\n      <td>Business</td>\n      <td>Northeastern University</td>\n      <td>696</td>\n    </tr>\n    <tr>\n      <th>3</th>\n      <td>Juyi</td>\n      <td></td>\n      <td>Lyu</td>\n      <td>2999528</td>\n      <td>Business</td>\n      <td>Northeastern University</td>\n      <td>696</td>\n    </tr>\n    <tr>\n      <th>4</th>\n      <td>Markysha</td>\n      <td></td>\n      <td>Martin</td>\n      <td>2922383</td>\n      <td>Psychology</td>\n      <td>Northeastern University</td>\n      <td>696</td>\n    </tr>\n    <tr>\n      <th>...</th>\n      <td>...</td>\n      <td>...</td>\n      <td>...</td>\n      <td>...</td>\n      <td>...</td>\n      <td>...</td>\n      <td>...</td>\n    </tr>\n    <tr>\n      <th>3487</th>\n      <td>Steve</td>\n      <td></td>\n      <td>Zoloth</td>\n      <td>2330269</td>\n      <td>Health Science</td>\n      <td>Northeastern University</td>\n      <td>696</td>\n    </tr>\n    <tr>\n      <th>3488</th>\n      <td>Steve</td>\n      <td></td>\n      <td>Zoloth</td>\n      <td>2330268</td>\n      <td>Sociology</td>\n      <td>Northeastern University</td>\n      <td>696</td>\n    </tr>\n    <tr>\n      <th>3489</th>\n      <td>Gregory</td>\n      <td></td>\n      <td>Zuch</td>\n      <td>540413</td>\n      <td>Writing</td>\n      <td>Northeastern University</td>\n      <td>696</td>\n    </tr>\n    <tr>\n      <th>3490</th>\n      <td>Ronald C.</td>\n      <td></td>\n      <td>Zullo</td>\n      <td>1393308</td>\n      <td>Accounting</td>\n      <td>Northeastern University</td>\n      <td>696</td>\n    </tr>\n    <tr>\n      <th>3491</th>\n      <td>Günther</td>\n      <td>K.H</td>\n      <td>Zupanc</td>\n      <td>1886247</td>\n      <td>Biology</td>\n      <td>Northeastern University</td>\n      <td>696</td>\n    </tr>\n  </tbody>\n</table>\n<p>3490 rows × 7 columns</p>\n</div>"
     },
     "execution_count": 38,
     "metadata": {},
     "output_type": "execute_result"
    }
   ],
   "source": [
    "# filter data we want to keep (for now)\n",
    "final_df = prof_df[['tFname', 'tMiddlename', 'tLname', 'tid', 'tDept', 'institution_name', 'tSid']]\n",
    "\n",
    "# change column names\n",
    "final_df.columns = ['First Name', 'Middle Name', 'Last Name', 'ID', 'Department',\n",
    "                    'Institution Name', 'Institution ID']\n",
    "\n",
    "# Remove Leandra Smollin and Jack Witkin (They have no data)\n",
    "final_df = final_df[~final_df['ID'].isin([1047708, 2180974])]\n",
    "final_df"
   ],
   "metadata": {
    "collapsed": false,
    "ExecuteTime": {
     "end_time": "2024-09-24T02:46:28.184285Z",
     "start_time": "2024-09-24T02:46:28.176173Z"
    }
   },
   "id": "7cad12adf03eef4c"
  },
  {
   "cell_type": "markdown",
   "source": [
    "##### Scrape individual Content for each Professor"
   ],
   "metadata": {
    "collapsed": false
   },
   "id": "a85fb8a6da60b110"
  },
  {
   "cell_type": "code",
   "execution_count": 39,
   "outputs": [
    {
     "name": "stderr",
     "output_type": "stream",
     "text": [
      "/Users/owensharpe/Desktop/Coding/Personal/OASIS Project/data_scrape.py:68: GuessedAtParserWarning: No parser was explicitly specified, so I'm using the best available HTML parser for this system (\"html.parser\"). This usually isn't a problem, but if you run this code on another system, or in a different virtual environment, it may use a different parser and behave differently.\n",
      "\n",
      "The code that caused this warning is on line 68 of the file /Users/owensharpe/Desktop/Coding/Personal/OASIS Project/data_scrape.py. To get rid of this warning, pass the additional argument 'features=\"html.parser\"' to the BeautifulSoup constructor.\n",
      "\n",
      "  temp_soup = BeautifulSoup(html)\n",
      "/Users/owensharpe/Desktop/Coding/Personal/OASIS Project/data_scrape.py:68: GuessedAtParserWarning: No parser was explicitly specified, so I'm using the best available HTML parser for this system (\"html.parser\"). This usually isn't a problem, but if you run this code on another system, or in a different virtual environment, it may use a different parser and behave differently.\n",
      "\n",
      "The code that caused this warning is on line 68 of the file /Users/owensharpe/Desktop/Coding/Personal/OASIS Project/data_scrape.py. To get rid of this warning, pass the additional argument 'features=\"html.parser\"' to the BeautifulSoup constructor.\n",
      "\n",
      "  temp_soup = BeautifulSoup(html)\n",
      "/Users/owensharpe/Desktop/Coding/Personal/OASIS Project/data_scrape.py:68: GuessedAtParserWarning: No parser was explicitly specified, so I'm using the best available HTML parser for this system (\"html.parser\"). This usually isn't a problem, but if you run this code on another system, or in a different virtual environment, it may use a different parser and behave differently.\n",
      "\n",
      "The code that caused this warning is on line 68 of the file /Users/owensharpe/Desktop/Coding/Personal/OASIS Project/data_scrape.py. To get rid of this warning, pass the additional argument 'features=\"html.parser\"' to the BeautifulSoup constructor.\n",
      "\n",
      "  temp_soup = BeautifulSoup(html)\n"
     ]
    }
   ],
   "source": [
    "# get all the content we need\n",
    "final_df[['Number of Ratings', 'Average Rating (Out of 5)']] = final_df['ID'].apply(lambda x: pd.Series(data_scrape.scrape_professor_avg_rating_and_num_ratings(x)))\n",
    "\n",
    "final_df[['Would Take Again (Percent)', 'Level of Difficulty (Out of 5)']] = final_df['ID'].apply(lambda x: pd.Series(data_scrape.scrape_professor_wta_percentage_and_lvl_of_difficulty(x)))\n",
    "    \n",
    "final_df['Popular Tags'] = final_df['ID'].apply(lambda x: data_scrape.scrape_professor_tags(x))\n",
    " \n",
    "final_df['Reviews'] = final_df['ID'].apply(lambda x: data_scrape.scrape_professor_reviews(NortheasternUniversity, x))"
   ],
   "metadata": {
    "collapsed": false,
    "ExecuteTime": {
     "end_time": "2024-09-24T04:05:18.264928Z",
     "start_time": "2024-09-24T02:46:28.187398Z"
    }
   },
   "id": "3a2374cdf801c0fb"
  },
  {
   "cell_type": "markdown",
   "source": [
    "##### Export the Data"
   ],
   "metadata": {
    "collapsed": false
   },
   "id": "bfaf7000b34ddb6f"
  },
  {
   "cell_type": "code",
   "execution_count": 2,
   "outputs": [
    {
     "ename": "NameError",
     "evalue": "name 'final_df' is not defined",
     "output_type": "error",
     "traceback": [
      "\u001B[0;31m---------------------------------------------------------------------------\u001B[0m",
      "\u001B[0;31mNameError\u001B[0m                                 Traceback (most recent call last)",
      "Cell \u001B[0;32mIn[2], line 2\u001B[0m\n\u001B[1;32m      1\u001B[0m \u001B[38;5;66;03m# export our scraped RateMyProfessor Data as a CSV File\u001B[39;00m\n\u001B[0;32m----> 2\u001B[0m final_df\u001B[38;5;241m.\u001B[39mto_csv(\u001B[38;5;124m'\u001B[39m\u001B[38;5;124mneu_rmp_data.csv\u001B[39m\u001B[38;5;124m'\u001B[39m, index\u001B[38;5;241m=\u001B[39m\u001B[38;5;28;01mFalse\u001B[39;00m)\n",
      "\u001B[0;31mNameError\u001B[0m: name 'final_df' is not defined"
     ]
    }
   ],
   "source": [
    "# export our scraped RateMyProfessor Data as a CSV File\n",
    "final_df.to_csv('neu_rmp_data.csv', index=False)"
   ],
   "metadata": {
    "collapsed": false,
    "ExecuteTime": {
     "end_time": "2024-10-05T02:22:02.610943Z",
     "start_time": "2024-10-05T02:22:02.596727Z"
    }
   },
   "id": "fc2f4d019b7c14c3"
  },
  {
   "cell_type": "code",
   "execution_count": null,
   "outputs": [],
   "source": [],
   "metadata": {
    "collapsed": false
   },
   "id": "813be74238f4da83"
  }
 ],
 "metadata": {
  "kernelspec": {
   "display_name": "Python 3",
   "language": "python",
   "name": "python3"
  },
  "language_info": {
   "codemirror_mode": {
    "name": "ipython",
    "version": 2
   },
   "file_extension": ".py",
   "mimetype": "text/x-python",
   "name": "python",
   "nbconvert_exporter": "python",
   "pygments_lexer": "ipython2",
   "version": "2.7.6"
  }
 },
 "nbformat": 4,
 "nbformat_minor": 5
}
