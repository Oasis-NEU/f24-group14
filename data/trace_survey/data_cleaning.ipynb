{
 "cells": [
  {
   "cell_type": "markdown",
   "id": "5f30901bb4608ac",
   "metadata": {
    "collapsed": false
   },
   "source": [
    "#### Cleaning the Dataframe"
   ]
  },
  {
   "cell_type": "code",
   "execution_count": 1,
   "id": "f2a3cf496e4b69ac",
   "metadata": {
    "collapsed": false,
    "ExecuteTime": {
     "end_time": "2024-11-22T21:39:01.567753Z",
     "start_time": "2024-11-22T21:39:00.748084Z"
    }
   },
   "outputs": [],
   "source": [
    "# read in the dataframe\n",
    "import pandas as pd\n",
    "df = pd.read_csv('trace_data_stores/Section 6 Trace Surveys.csv')"
   ]
  },
  {
   "cell_type": "markdown",
   "id": "138f1433634bd8f1",
   "metadata": {
    "collapsed": false
   },
   "source": [
    "### Observing NAN Values"
   ]
  },
  {
   "cell_type": "code",
   "execution_count": 2,
   "id": "e907f639c29f73bf",
   "metadata": {
    "collapsed": false,
    "ExecuteTime": {
     "end_time": "2024-11-22T21:39:01.578011Z",
     "start_time": "2024-11-22T21:39:01.569348Z"
    }
   },
   "outputs": [
    {
     "name": "stdout",
     "output_type": "stream",
     "text": [
      "Total NaN values: 306648\n",
      "NaN values per column:\n",
      " Instructor                                                            0\n",
      "Course Title                                                          0\n",
      "Section                                                               0\n",
      "Course ID                                                             0\n",
      "Online course materials were organized to help me navigate th…     7914\n",
      "                                                                   ... \n",
      "The section instructor treated students with respect.              9080\n",
      "The section instructor acknowledged and took effective action…     9080\n",
      "The section instructor was able to address my content questio…     9080\n",
      "The section instructor displayed enthusiasm for the course.        9080\n",
      "The amount of interaction with my section instructor met my le…    9080\n",
      "Length: 68, dtype: int64\n"
     ]
    }
   ],
   "source": [
    "# look at the NAN values in the entire DataFrame and per column\n",
    "total_nan = df.isna().sum().sum()\n",
    "nan_per_column = df.isna().sum()\n",
    "\n",
    "print(\"Total NaN values:\", total_nan)\n",
    "print(\"NaN values per column:\\n\", nan_per_column)"
   ]
  },
  {
   "cell_type": "markdown",
   "id": "8e617bd62506c595",
   "metadata": {
    "collapsed": false
   },
   "source": [
    "### Observing which Trace Surveys are Causing NANs"
   ]
  },
  {
   "cell_type": "code",
   "execution_count": 7,
   "id": "289c46056bce6648",
   "metadata": {
    "collapsed": false,
    "ExecuteTime": {
     "end_time": "2024-11-22T21:41:06.883539Z",
     "start_time": "2024-11-22T21:41:06.861248Z"
    }
   },
   "outputs": [
    {
     "data": {
      "text/plain": "              Instructor                   Course Title Section  Course ID  \\\n17        Russo, Anthony          Managerial Accounting      03      61465   \n196    Mitteness, Cheryl       Entrep Marketing/Selling      01      61249   \n707       O'Kelly, Peggy  Financl Accounting  Reporting      01      40192   \n708     Goldman, William  Financl Accounting  Reporting      01      40192   \n709     McKenney, D Scot  Financl Accounting  Reporting      02      40193   \n...                  ...                            ...     ...        ...   \n8021      Sieloff, Susan      Introduction to Marketing      05      11869   \n8022  McCullough, Robert      Introduction to Marketing      06      11870   \n8023      Sieloff, Susan      Introduction to Marketing      06      11870   \n8024   Wright, Frederick      Introduction to Marketing      07      11894   \n8025      Sieloff, Susan      Introduction to Marketing      07      11894   \n\n      Online course materials were organized to help me navigate th…  \\\n17                                                  NaN                \n196                                                 NaN                \n707                                                 NaN                \n708                                                 NaN                \n709                                                 NaN                \n...                                                 ...                \n8021                                                NaN                \n8022                                                NaN                \n8023                                                NaN                \n8024                                                NaN                \n8025                                                NaN                \n\n      Online interactions with my instructor created a sense of conne…  \\\n17                                                  NaN                  \n196                                                 NaN                  \n707                                                 NaN                  \n708                                                 NaN                  \n709                                                 NaN                  \n...                                                 ...                  \n8021                                                NaN                  \n8022                                                NaN                  \n8023                                                NaN                  \n8024                                                NaN                  \n8025                                                NaN                  \n\n      Online course interactions created a sense of community and…  \\\n17                                                  NaN              \n196                                                 NaN              \n707                                                 NaN              \n708                                                 NaN              \n709                                                 NaN              \n...                                                 ...              \n8021                                                NaN              \n8022                                                NaN              \n8023                                                NaN              \n8024                                                NaN              \n8025                                                NaN              \n\n      I had the necessary computer skills and technology to success…  \\\n17                                                  NaN                \n196                                                 NaN                \n707                                                 NaN                \n708                                                 NaN                \n709                                                 NaN                \n...                                                 ...                \n8021                                                NaN                \n8022                                                NaN                \n8023                                                NaN                \n8024                                                NaN                \n8025                                                NaN                \n\n      The syllabus was accurate and helpful in delineating expectati…  \\\n17                                                  NaN                 \n196                                                 NaN                 \n707                                                 NaN                 \n708                                                 NaN                 \n709                                                 NaN                 \n...                                                 ...                 \n8021                                                NaN                 \n8022                                                NaN                 \n8023                                                NaN                 \n8024                                                NaN                 \n8025                                                NaN                 \n\n      Required and additional course materials were helpful in achie…  ...  \\\n17                                                  NaN                ...   \n196                                                 NaN                ...   \n707                                                 NaN                ...   \n708                                                 NaN                ...   \n709                                                 NaN                ...   \n...                                                 ...                ...   \n8021                                                NaN                ...   \n8022                                                NaN                ...   \n8023                                                NaN                ...   \n8024                                                NaN                ...   \n8025                                                NaN                ...   \n\n      The lead instructor clearly stated the objectives of the course.  \\\n17                                                  0.0                  \n196                                                 0.0                  \n707                                                -0.1                  \n708                                                -0.1                  \n709                                                 0.1                  \n...                                                 ...                  \n8021                                                0.5                  \n8022                                               -0.6                  \n8023                                               -0.6                  \n8024                                                0.0                  \n8025                                                0.0                  \n\n      The lead instructor covered material stated in the course objec…  \\\n17                                                  0.0                  \n196                                                 0.0                  \n707                                                -0.1                  \n708                                                -0.1                  \n709                                                 0.1                  \n...                                                 ...                  \n8021                                                0.4                  \n8022                                               -0.3                  \n8023                                               -0.3                  \n8024                                               -0.6                  \n8025                                               -0.6                  \n\n      The section instructor fairly evaluated my performance.  \\\n17                                                  0.0         \n196                                                 0.0         \n707                                                -0.1         \n708                                                -0.1         \n709                                                 0.1         \n...                                                 ...         \n8021                                                0.2         \n8022                                               -0.1         \n8023                                               -0.1         \n8024                                               -0.3         \n8025                                               -0.3         \n\n      The section instructor provided feedback that was timely and v…  \\\n17                                                  0.0                 \n196                                                 0.0                 \n707                                                 0.0                 \n708                                                 0.0                 \n709                                                 0.0                 \n...                                                 ...                 \n8021                                                0.0                 \n8022                                                0.1                 \n8023                                                0.1                 \n8024                                                0.0                 \n8025                                                0.0                 \n\n      I would recommend this section instructor to other students.  \\\n17                                                  0.0              \n196                                                 0.0              \n707                                                 0.2              \n708                                                 0.2              \n709                                                 0.0              \n...                                                 ...              \n8021                                                0.6              \n8022                                               -0.2              \n8023                                               -0.2              \n8024                                               -0.9              \n8025                                               -0.9              \n\n      The section instructor treated students with respect.  \\\n17                                                  0.0       \n196                                                 0.0       \n707                                                 0.0       \n708                                                 0.0       \n709                                                -0.5       \n...                                                 ...       \n8021                                                0.4       \n8022                                                0.0       \n8023                                                0.0       \n8024                                                0.5       \n8025                                                0.5       \n\n      The section instructor acknowledged and took effective action…  \\\n17                                                  0.0                \n196                                                 0.0                \n707                                                -0.1                \n708                                                -0.1                \n709                                                 0.4                \n...                                                 ...                \n8021                                                0.5                \n8022                                                0.1                \n8023                                                0.1                \n8024                                               -0.5                \n8025                                               -0.5                \n\n      The section instructor was able to address my content questio…  \\\n17                                                  0.0                \n196                                                 0.0                \n707                                                 0.1                \n708                                                 0.1                \n709                                                 0.1                \n...                                                 ...                \n8021                                                0.6                \n8022                                               -0.1                \n8023                                               -0.1                \n8024                                               -0.2                \n8025                                               -0.2                \n\n      The section instructor displayed enthusiasm for the course.  \\\n17                                                  0.0             \n196                                                 0.0             \n707                                                -0.4             \n708                                                -0.4             \n709                                                -0.1             \n...                                                 ...             \n8021                                                0.4             \n8022                                                0.0             \n8023                                                0.0             \n8024                                                0.0             \n8025                                                0.0             \n\n      The amount of interaction with my section instructor met my le…  \n17                                                  0.0                \n196                                                 0.0                \n707                                                 0.0                \n708                                                 0.0                \n709                                                 0.2                \n...                                                 ...                \n8021                                                0.5                \n8022                                               -0.1                \n8023                                               -0.1                \n8024                                               -0.7                \n8025                                               -0.7                \n\n[99 rows x 68 columns]",
      "text/html": "<div>\n<style scoped>\n    .dataframe tbody tr th:only-of-type {\n        vertical-align: middle;\n    }\n\n    .dataframe tbody tr th {\n        vertical-align: top;\n    }\n\n    .dataframe thead th {\n        text-align: right;\n    }\n</style>\n<table border=\"1\" class=\"dataframe\">\n  <thead>\n    <tr style=\"text-align: right;\">\n      <th></th>\n      <th>Instructor</th>\n      <th>Course Title</th>\n      <th>Section</th>\n      <th>Course ID</th>\n      <th>Online course materials were organized to help me navigate th…</th>\n      <th>Online interactions with my instructor created a sense of conne…</th>\n      <th>Online course interactions created a sense of community and…</th>\n      <th>I had the necessary computer skills and technology to success…</th>\n      <th>The syllabus was accurate and helpful in delineating expectati…</th>\n      <th>Required and additional course materials were helpful in achie…</th>\n      <th>...</th>\n      <th>The lead instructor clearly stated the objectives of the course.</th>\n      <th>The lead instructor covered material stated in the course objec…</th>\n      <th>The section instructor fairly evaluated my performance.</th>\n      <th>The section instructor provided feedback that was timely and v…</th>\n      <th>I would recommend this section instructor to other students.</th>\n      <th>The section instructor treated students with respect.</th>\n      <th>The section instructor acknowledged and took effective action…</th>\n      <th>The section instructor was able to address my content questio…</th>\n      <th>The section instructor displayed enthusiasm for the course.</th>\n      <th>The amount of interaction with my section instructor met my le…</th>\n    </tr>\n  </thead>\n  <tbody>\n    <tr>\n      <th>17</th>\n      <td>Russo, Anthony</td>\n      <td>Managerial Accounting</td>\n      <td>03</td>\n      <td>61465</td>\n      <td>NaN</td>\n      <td>NaN</td>\n      <td>NaN</td>\n      <td>NaN</td>\n      <td>NaN</td>\n      <td>NaN</td>\n      <td>...</td>\n      <td>0.0</td>\n      <td>0.0</td>\n      <td>0.0</td>\n      <td>0.0</td>\n      <td>0.0</td>\n      <td>0.0</td>\n      <td>0.0</td>\n      <td>0.0</td>\n      <td>0.0</td>\n      <td>0.0</td>\n    </tr>\n    <tr>\n      <th>196</th>\n      <td>Mitteness, Cheryl</td>\n      <td>Entrep Marketing/Selling</td>\n      <td>01</td>\n      <td>61249</td>\n      <td>NaN</td>\n      <td>NaN</td>\n      <td>NaN</td>\n      <td>NaN</td>\n      <td>NaN</td>\n      <td>NaN</td>\n      <td>...</td>\n      <td>0.0</td>\n      <td>0.0</td>\n      <td>0.0</td>\n      <td>0.0</td>\n      <td>0.0</td>\n      <td>0.0</td>\n      <td>0.0</td>\n      <td>0.0</td>\n      <td>0.0</td>\n      <td>0.0</td>\n    </tr>\n    <tr>\n      <th>707</th>\n      <td>O'Kelly, Peggy</td>\n      <td>Financl Accounting  Reporting</td>\n      <td>01</td>\n      <td>40192</td>\n      <td>NaN</td>\n      <td>NaN</td>\n      <td>NaN</td>\n      <td>NaN</td>\n      <td>NaN</td>\n      <td>NaN</td>\n      <td>...</td>\n      <td>-0.1</td>\n      <td>-0.1</td>\n      <td>-0.1</td>\n      <td>0.0</td>\n      <td>0.2</td>\n      <td>0.0</td>\n      <td>-0.1</td>\n      <td>0.1</td>\n      <td>-0.4</td>\n      <td>0.0</td>\n    </tr>\n    <tr>\n      <th>708</th>\n      <td>Goldman, William</td>\n      <td>Financl Accounting  Reporting</td>\n      <td>01</td>\n      <td>40192</td>\n      <td>NaN</td>\n      <td>NaN</td>\n      <td>NaN</td>\n      <td>NaN</td>\n      <td>NaN</td>\n      <td>NaN</td>\n      <td>...</td>\n      <td>-0.1</td>\n      <td>-0.1</td>\n      <td>-0.1</td>\n      <td>0.0</td>\n      <td>0.2</td>\n      <td>0.0</td>\n      <td>-0.1</td>\n      <td>0.1</td>\n      <td>-0.4</td>\n      <td>0.0</td>\n    </tr>\n    <tr>\n      <th>709</th>\n      <td>McKenney, D Scot</td>\n      <td>Financl Accounting  Reporting</td>\n      <td>02</td>\n      <td>40193</td>\n      <td>NaN</td>\n      <td>NaN</td>\n      <td>NaN</td>\n      <td>NaN</td>\n      <td>NaN</td>\n      <td>NaN</td>\n      <td>...</td>\n      <td>0.1</td>\n      <td>0.1</td>\n      <td>0.1</td>\n      <td>0.0</td>\n      <td>0.0</td>\n      <td>-0.5</td>\n      <td>0.4</td>\n      <td>0.1</td>\n      <td>-0.1</td>\n      <td>0.2</td>\n    </tr>\n    <tr>\n      <th>...</th>\n      <td>...</td>\n      <td>...</td>\n      <td>...</td>\n      <td>...</td>\n      <td>...</td>\n      <td>...</td>\n      <td>...</td>\n      <td>...</td>\n      <td>...</td>\n      <td>...</td>\n      <td>...</td>\n      <td>...</td>\n      <td>...</td>\n      <td>...</td>\n      <td>...</td>\n      <td>...</td>\n      <td>...</td>\n      <td>...</td>\n      <td>...</td>\n      <td>...</td>\n      <td>...</td>\n    </tr>\n    <tr>\n      <th>8021</th>\n      <td>Sieloff, Susan</td>\n      <td>Introduction to Marketing</td>\n      <td>05</td>\n      <td>11869</td>\n      <td>NaN</td>\n      <td>NaN</td>\n      <td>NaN</td>\n      <td>NaN</td>\n      <td>NaN</td>\n      <td>NaN</td>\n      <td>...</td>\n      <td>0.5</td>\n      <td>0.4</td>\n      <td>0.2</td>\n      <td>0.0</td>\n      <td>0.6</td>\n      <td>0.4</td>\n      <td>0.5</td>\n      <td>0.6</td>\n      <td>0.4</td>\n      <td>0.5</td>\n    </tr>\n    <tr>\n      <th>8022</th>\n      <td>McCullough, Robert</td>\n      <td>Introduction to Marketing</td>\n      <td>06</td>\n      <td>11870</td>\n      <td>NaN</td>\n      <td>NaN</td>\n      <td>NaN</td>\n      <td>NaN</td>\n      <td>NaN</td>\n      <td>NaN</td>\n      <td>...</td>\n      <td>-0.6</td>\n      <td>-0.3</td>\n      <td>-0.1</td>\n      <td>0.1</td>\n      <td>-0.2</td>\n      <td>0.0</td>\n      <td>0.1</td>\n      <td>-0.1</td>\n      <td>0.0</td>\n      <td>-0.1</td>\n    </tr>\n    <tr>\n      <th>8023</th>\n      <td>Sieloff, Susan</td>\n      <td>Introduction to Marketing</td>\n      <td>06</td>\n      <td>11870</td>\n      <td>NaN</td>\n      <td>NaN</td>\n      <td>NaN</td>\n      <td>NaN</td>\n      <td>NaN</td>\n      <td>NaN</td>\n      <td>...</td>\n      <td>-0.6</td>\n      <td>-0.3</td>\n      <td>-0.1</td>\n      <td>0.1</td>\n      <td>-0.2</td>\n      <td>0.0</td>\n      <td>0.1</td>\n      <td>-0.1</td>\n      <td>0.0</td>\n      <td>-0.1</td>\n    </tr>\n    <tr>\n      <th>8024</th>\n      <td>Wright, Frederick</td>\n      <td>Introduction to Marketing</td>\n      <td>07</td>\n      <td>11894</td>\n      <td>NaN</td>\n      <td>NaN</td>\n      <td>NaN</td>\n      <td>NaN</td>\n      <td>NaN</td>\n      <td>NaN</td>\n      <td>...</td>\n      <td>0.0</td>\n      <td>-0.6</td>\n      <td>-0.3</td>\n      <td>0.0</td>\n      <td>-0.9</td>\n      <td>0.5</td>\n      <td>-0.5</td>\n      <td>-0.2</td>\n      <td>0.0</td>\n      <td>-0.7</td>\n    </tr>\n    <tr>\n      <th>8025</th>\n      <td>Sieloff, Susan</td>\n      <td>Introduction to Marketing</td>\n      <td>07</td>\n      <td>11894</td>\n      <td>NaN</td>\n      <td>NaN</td>\n      <td>NaN</td>\n      <td>NaN</td>\n      <td>NaN</td>\n      <td>NaN</td>\n      <td>...</td>\n      <td>0.0</td>\n      <td>-0.6</td>\n      <td>-0.3</td>\n      <td>0.0</td>\n      <td>-0.9</td>\n      <td>0.5</td>\n      <td>-0.5</td>\n      <td>-0.2</td>\n      <td>0.0</td>\n      <td>-0.7</td>\n    </tr>\n  </tbody>\n</table>\n<p>99 rows × 68 columns</p>\n</div>"
     },
     "execution_count": 7,
     "metadata": {},
     "output_type": "execute_result"
    }
   ],
   "source": [
    "bad_traces = df[df['What is your overall rating of this instructor\\'s teaching effective…'].isna()]\n",
    "bad_traces"
   ]
  },
  {
   "cell_type": "markdown",
   "id": "ba65b248e56dba5b",
   "metadata": {
    "collapsed": false
   },
   "source": [
    "### Make a CSV with All Surveys and then Export"
   ]
  },
  {
   "cell_type": "code",
   "execution_count": 8,
   "id": "70c7e5180b890dd6",
   "metadata": {
    "collapsed": false,
    "ExecuteTime": {
     "end_time": "2024-11-22T21:41:12.097347Z",
     "start_time": "2024-11-22T21:41:12.059369Z"
    }
   },
   "outputs": [],
   "source": [
    "# now replace the NaNs with 0\n",
    "total_df = df.fillna(0)\n",
    "\n",
    "# create a new column that sums all the question columns and makes a new one that is the total score\n",
    "total_df['Professor Score'] = round(total_df.iloc[:, 4:].sum(axis=1), 1)\n",
    "\n",
    "# remove unneeded columns; change column names; export the csv with all surveys\n",
    "total_df = total_df.iloc[:, [0, 1, 3, -1]]\n",
    "total_df.columns = ['instructor', 'course_title', 'course_id', 'professor_score']\n",
    "# total_df.to_csv('trace_data_stores/All Section 6 Trace Surveys.csv', index=False)"
   ]
  },
  {
   "cell_type": "markdown",
   "id": "ae9e172a5567f1d9",
   "metadata": {
    "collapsed": false
   },
   "source": [
    "### Make a CSV without the Surveys Causing NANs and then Export"
   ]
  },
  {
   "cell_type": "code",
   "execution_count": 9,
   "id": "a761d3770f8a4e97",
   "metadata": {
    "collapsed": false,
    "ExecuteTime": {
     "end_time": "2024-11-22T21:41:14.384632Z",
     "start_time": "2024-11-22T21:41:14.352219Z"
    }
   },
   "outputs": [],
   "source": [
    "# now filter the dataframe to remove the surveys we don't want\n",
    "cleaned_df = df[~df.index.isin(bad_traces.index)]\n",
    "\n",
    "# remove the columns that are causing NANs\n",
    "cleaned_df = cleaned_df.iloc[:, :23]\n",
    "\n",
    "# now sum to get the total score\n",
    "cleaned_df['Professor Score'] = round(cleaned_df.iloc[:, 4:].sum(axis=1), 1)\n",
    "\n",
    "# remove unneeded columns; change column names; export to a csv with the filtered dataframe\n",
    "cleaned_df = cleaned_df.iloc[:, [0, 1, 3, -1]]\n",
    "cleaned_df.columns = ['instructor', 'course_title', 'course_id', 'professor_score']\n",
    "# cleaned_df.to_csv('trace_data_stores/Filtered Section 6 Trace Surveys.csv', index=False)"
   ]
  },
  {
   "cell_type": "code",
   "execution_count": 21,
   "id": "f415535eb2193054",
   "metadata": {
    "collapsed": false,
    "ExecuteTime": {
     "end_time": "2024-11-16T17:44:49.209528Z",
     "start_time": "2024-11-16T17:44:49.137888Z"
    }
   },
   "outputs": [],
   "source": []
  }
 ],
 "metadata": {
  "kernelspec": {
   "display_name": "Python 3",
   "language": "python",
   "name": "python3"
  },
  "language_info": {
   "codemirror_mode": {
    "name": "ipython",
    "version": 3
   },
   "file_extension": ".py",
   "mimetype": "text/x-python",
   "name": "python",
   "nbconvert_exporter": "python",
   "pygments_lexer": "ipython3",
   "version": "3.11.9"
  }
 },
 "nbformat": 4,
 "nbformat_minor": 5
}
