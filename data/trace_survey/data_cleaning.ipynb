{
 "cells": [
  {
   "cell_type": "markdown",
   "source": [
    "#### Cleaning the Dataframe"
   ],
   "metadata": {
    "collapsed": false
   },
   "id": "5f30901bb4608ac"
  },
  {
   "cell_type": "code",
   "execution_count": 2,
   "outputs": [],
   "source": [
    "# read in the dataframe\n",
    "import pandas as pd\n",
    "df = pd.read_csv('trace_data_stores/Section 3 Trace Surveys.csv')"
   ],
   "metadata": {
    "collapsed": false,
    "ExecuteTime": {
     "end_time": "2024-11-12T14:52:48.589850Z",
     "start_time": "2024-11-12T14:52:48.547937Z"
    }
   },
   "id": "f2a3cf496e4b69ac"
  },
  {
   "cell_type": "markdown",
   "source": [
    "### Observing NAN Values"
   ],
   "metadata": {
    "collapsed": false
   },
   "id": "138f1433634bd8f1"
  },
  {
   "cell_type": "code",
   "execution_count": 3,
   "outputs": [
    {
     "name": "stdout",
     "output_type": "stream",
     "text": [
      "Total NaN values: 317302\n",
      "NaN values per column:\n",
      " Instructor                                                                  0\n",
      "Course Title                                                                0\n",
      "Section                                                                     0\n",
      "Course ID                                                                   0\n",
      "Online course materials were organized to help me navigate th…            199\n",
      "Online interactions with my instructor created a sense of conne…          199\n",
      "Online course interactions created a sense of community and…              199\n",
      "I had the necessary computer skills and technology to success…            199\n",
      "The syllabus was accurate and helpful in delineating expectati…           199\n",
      "Required and additional course materials were helpful in achie…           199\n",
      "In-class sessions were helpful for learning.                              199\n",
      "Out-of-class assignments and/or fieldwork were helpful for lear…          199\n",
      "This course was intellectually challenging.                               199\n",
      "I learned a lot in this course.                                             0\n",
      "The instructor came to class prepared to teach.                           199\n",
      "The instructor used class time effectively.                               199\n",
      "The instructor clearly communicated ideas and information.                199\n",
      "The instructor provided sufficient feedback.                              199\n",
      "The instructor fairly evaluated my performance.                           199\n",
      "The instructor was available to assist students outside of class.         199\n",
      "The instructor facilitated a respectful and inclusive learning env…       199\n",
      "The instructor displayed enthusiasm for the course.                       199\n",
      "What is your overall rating of this instructor's teaching effective…      199\n",
      "The Syllabus Provided a clear description of course goals and…          10101\n",
      "The textbook(s) helped me to learn.                                     10101\n",
      "The materials used in this course (lectures, videos, ect.) were…        10101\n",
      "The assignments and fieldwork helped me to learn.                       10101\n",
      "The lectures helped me to learn.                                        10101\n",
      "The course discussions and activities helped me to learn.               10101\n",
      "The technology used in this course helped me to learn                   10101\n",
      "I found this course intellectually challenging.                         10101\n",
      "I would recommend this course to other students.                        10101\n",
      "I learned to apply course concepts and principles.                      10101\n",
      "I developed additional communication skills in this course.             10101\n",
      "I learned to analyze and evaluate ideas, arguments, and points…         10101\n",
      "Working with my classmates in this course helped me to learn.           10101\n",
      "I had the necessary technological skills for this course.               10101\n",
      "Technical support was available when needed.                            10101\n",
      "The amount of interaction with the lead instructor met my learn…        10101\n",
      "The lead instructor clearly communicated ideas and information.         10101\n",
      "The lead instructor demonstrated expertise in the subject matter.       10101\n",
      "The lead instructor clearly stated the objectives of the course.        10101\n",
      "The lead instructor covered material stated in the course objec…        10101\n",
      "The section instructor fairly evaluated my performance.                 10101\n",
      "The section instructor provided feedback that was timely and v…         10101\n",
      "I would recommend this section instructor to other students.            10101\n",
      "The section instructor treated students with respect.                   10101\n",
      "The section instructor acknowledged and took effective action…          10101\n",
      "The section instructor was able to address my content questio…          10101\n",
      "The section instructor displayed enthusiasm for the course.             10101\n",
      "The amount of interaction with my section instructor met my le…         10101\n",
      "How would you rate the use of guest speakers in this course?            10296\n",
      "How would you rate the quality of our class discussions?                10297\n",
      "How would you rate the use guest speakers in this course?               10299\n",
      "dtype: int64\n"
     ]
    }
   ],
   "source": [
    "# look at the NAN values in the entire DataFrame and per column\n",
    "total_nan = df.isna().sum().sum()\n",
    "nan_per_column = df.isna().sum()\n",
    "\n",
    "print(\"Total NaN values:\", total_nan)\n",
    "print(\"NaN values per column:\\n\", nan_per_column)"
   ],
   "metadata": {
    "collapsed": false,
    "ExecuteTime": {
     "end_time": "2024-11-12T14:52:50.573618Z",
     "start_time": "2024-11-12T14:52:50.549215Z"
    }
   },
   "id": "e907f639c29f73bf"
  },
  {
   "cell_type": "markdown",
   "source": [
    "### Observing which Trace Surveys are Causing NANs"
   ],
   "metadata": {
    "collapsed": false
   },
   "id": "8e617bd62506c595"
  },
  {
   "cell_type": "code",
   "execution_count": 4,
   "outputs": [
    {
     "data": {
      "text/plain": "                   Instructor                   Course Title Section  \\\n18           Goldman, William  Financl Accounting  Reporting      01   \n19               Witte, Annie  Financl Accounting  Reporting      03   \n86             Coleman, Kerry       Introduction to Business      01   \n87          McCarty, Paulette       Introduction to Business      01   \n215    Srikrishna, Kuppuswamy                    Innovation!      02   \n...                       ...                            ...     ...   \n9095           Sieloff, Susan      Introduction to Marketing      07   \n9485        Aksehirli, Zeynep        Organizational Behavior      28   \n9486         Myers, Elizabeth        Organizational Behavior      29   \n10121          Power, Michael  Supply Chain  Operations Mgmt      15   \n10222        Alessandri, Todd             Strategy in Action      11   \n\n       Course ID  \\\n18         60909   \n19         60967   \n86         60910   \n87         60910   \n215        61077   \n...          ...   \n9095       11432   \n9485       17566   \n9486       19994   \n10121      18997   \n10222      19799   \n\n       Online course materials were organized to help me navigate th…  \\\n18                                                   NaN                \n19                                                   NaN                \n86                                                   NaN                \n87                                                   NaN                \n215                                                  NaN                \n...                                                  ...                \n9095                                                 NaN                \n9485                                                 NaN                \n9486                                                 NaN                \n10121                                                NaN                \n10222                                                NaN                \n\n       Online interactions with my instructor created a sense of conne…  \\\n18                                                   NaN                  \n19                                                   NaN                  \n86                                                   NaN                  \n87                                                   NaN                  \n215                                                  NaN                  \n...                                                  ...                  \n9095                                                 NaN                  \n9485                                                 NaN                  \n9486                                                 NaN                  \n10121                                                NaN                  \n10222                                                NaN                  \n\n       Online course interactions created a sense of community and…  \\\n18                                                   NaN              \n19                                                   NaN              \n86                                                   NaN              \n87                                                   NaN              \n215                                                  NaN              \n...                                                  ...              \n9095                                                 NaN              \n9485                                                 NaN              \n9486                                                 NaN              \n10121                                                NaN              \n10222                                                NaN              \n\n       I had the necessary computer skills and technology to success…  \\\n18                                                   NaN                \n19                                                   NaN                \n86                                                   NaN                \n87                                                   NaN                \n215                                                  NaN                \n...                                                  ...                \n9095                                                 NaN                \n9485                                                 NaN                \n9486                                                 NaN                \n10121                                                NaN                \n10222                                                NaN                \n\n       The syllabus was accurate and helpful in delineating expectati…  \\\n18                                                   NaN                 \n19                                                   NaN                 \n86                                                   NaN                 \n87                                                   NaN                 \n215                                                  NaN                 \n...                                                  ...                 \n9095                                                 NaN                 \n9485                                                 NaN                 \n9486                                                 NaN                 \n10121                                                NaN                 \n10222                                                NaN                 \n\n       Required and additional course materials were helpful in achie…  ...  \\\n18                                                   NaN                ...   \n19                                                   NaN                ...   \n86                                                   NaN                ...   \n87                                                   NaN                ...   \n215                                                  NaN                ...   \n...                                                  ...                ...   \n9095                                                 NaN                ...   \n9485                                                 NaN                ...   \n9486                                                 NaN                ...   \n10121                                                NaN                ...   \n10222                                                NaN                ...   \n\n       The section instructor provided feedback that was timely and v…  \\\n18                                                   0.2                 \n19                                                  -0.2                 \n86                                                   0.0                 \n87                                                   0.0                 \n215                                                 -0.1                 \n...                                                  ...                 \n9095                                                -1.8                 \n9485                                                -0.2                 \n9486                                                 0.2                 \n10121                                                0.0                 \n10222                                                0.0                 \n\n       I would recommend this section instructor to other students.  \\\n18                                                   0.1              \n19                                                  -0.1              \n86                                                   0.0              \n87                                                   0.0              \n215                                                 -0.1              \n...                                                  ...              \n9095                                                -1.9              \n9485                                                -0.3              \n9486                                                 0.3              \n10121                                                0.0              \n10222                                                0.0              \n\n       The section instructor treated students with respect.  \\\n18                                                  -0.1       \n19                                                   0.2       \n86                                                   0.0       \n87                                                   0.0       \n215                                                  0.1       \n...                                                  ...       \n9095                                                -2.2       \n9485                                                -0.1       \n9486                                                 0.1       \n10121                                                0.0       \n10222                                                0.0       \n\n       The section instructor acknowledged and took effective action…  \\\n18                                                   0.0                \n19                                                  -0.1                \n86                                                   0.0                \n87                                                   0.0                \n215                                                  0.1                \n...                                                  ...                \n9095                                                -2.2                \n9485                                                -0.2                \n9486                                                 0.4                \n10121                                                0.0                \n10222                                                0.0                \n\n       The section instructor was able to address my content questio…  \\\n18                                                  -0.1                \n19                                                   0.2                \n86                                                   0.0                \n87                                                   0.0                \n215                                                 -0.1                \n...                                                  ...                \n9095                                                -2.4                \n9485                                                -0.1                \n9486                                                 0.2                \n10121                                                0.0                \n10222                                                0.0                \n\n       The section instructor displayed enthusiasm for the course.  \\\n18                                                   0.0             \n19                                                   0.1             \n86                                                   0.0             \n87                                                   0.0             \n215                                                  0.1             \n...                                                  ...             \n9095                                                -2.3             \n9485                                                -0.2             \n9486                                                 0.3             \n10121                                                0.0             \n10222                                                0.0             \n\n       The amount of interaction with my section instructor met my le…  \\\n18                                                   0.2                 \n19                                                  -0.2                 \n86                                                   0.0                 \n87                                                   0.0                 \n215                                                  0.1                 \n...                                                  ...                 \n9095                                                -1.9                 \n9485                                                 0.0                 \n9486                                                 0.1                 \n10121                                                0.0                 \n10222                                                0.0                 \n\n       How would you rate the use of guest speakers in this course?  \\\n18                                                   NaN              \n19                                                   NaN              \n86                                                   NaN              \n87                                                   NaN              \n215                                                  NaN              \n...                                                  ...              \n9095                                                 NaN              \n9485                                                 NaN              \n9486                                                 NaN              \n10121                                                NaN              \n10222                                                NaN              \n\n       How would you rate the quality of our class discussions?  \\\n18                                                   NaN          \n19                                                   NaN          \n86                                                   NaN          \n87                                                   NaN          \n215                                                  NaN          \n...                                                  ...          \n9095                                                 NaN          \n9485                                                 NaN          \n9486                                                 NaN          \n10121                                                NaN          \n10222                                                NaN          \n\n       How would you rate the use guest speakers in this course?  \n18                                                   NaN          \n19                                                   NaN          \n86                                                   NaN          \n87                                                   NaN          \n215                                                  NaN          \n...                                                  ...          \n9095                                                 NaN          \n9485                                                 NaN          \n9486                                                 NaN          \n10121                                                NaN          \n10222                                                NaN          \n\n[199 rows x 54 columns]",
      "text/html": "<div>\n<style scoped>\n    .dataframe tbody tr th:only-of-type {\n        vertical-align: middle;\n    }\n\n    .dataframe tbody tr th {\n        vertical-align: top;\n    }\n\n    .dataframe thead th {\n        text-align: right;\n    }\n</style>\n<table border=\"1\" class=\"dataframe\">\n  <thead>\n    <tr style=\"text-align: right;\">\n      <th></th>\n      <th>Instructor</th>\n      <th>Course Title</th>\n      <th>Section</th>\n      <th>Course ID</th>\n      <th>Online course materials were organized to help me navigate th…</th>\n      <th>Online interactions with my instructor created a sense of conne…</th>\n      <th>Online course interactions created a sense of community and…</th>\n      <th>I had the necessary computer skills and technology to success…</th>\n      <th>The syllabus was accurate and helpful in delineating expectati…</th>\n      <th>Required and additional course materials were helpful in achie…</th>\n      <th>...</th>\n      <th>The section instructor provided feedback that was timely and v…</th>\n      <th>I would recommend this section instructor to other students.</th>\n      <th>The section instructor treated students with respect.</th>\n      <th>The section instructor acknowledged and took effective action…</th>\n      <th>The section instructor was able to address my content questio…</th>\n      <th>The section instructor displayed enthusiasm for the course.</th>\n      <th>The amount of interaction with my section instructor met my le…</th>\n      <th>How would you rate the use of guest speakers in this course?</th>\n      <th>How would you rate the quality of our class discussions?</th>\n      <th>How would you rate the use guest speakers in this course?</th>\n    </tr>\n  </thead>\n  <tbody>\n    <tr>\n      <th>18</th>\n      <td>Goldman, William</td>\n      <td>Financl Accounting  Reporting</td>\n      <td>01</td>\n      <td>60909</td>\n      <td>NaN</td>\n      <td>NaN</td>\n      <td>NaN</td>\n      <td>NaN</td>\n      <td>NaN</td>\n      <td>NaN</td>\n      <td>...</td>\n      <td>0.2</td>\n      <td>0.1</td>\n      <td>-0.1</td>\n      <td>0.0</td>\n      <td>-0.1</td>\n      <td>0.0</td>\n      <td>0.2</td>\n      <td>NaN</td>\n      <td>NaN</td>\n      <td>NaN</td>\n    </tr>\n    <tr>\n      <th>19</th>\n      <td>Witte, Annie</td>\n      <td>Financl Accounting  Reporting</td>\n      <td>03</td>\n      <td>60967</td>\n      <td>NaN</td>\n      <td>NaN</td>\n      <td>NaN</td>\n      <td>NaN</td>\n      <td>NaN</td>\n      <td>NaN</td>\n      <td>...</td>\n      <td>-0.2</td>\n      <td>-0.1</td>\n      <td>0.2</td>\n      <td>-0.1</td>\n      <td>0.2</td>\n      <td>0.1</td>\n      <td>-0.2</td>\n      <td>NaN</td>\n      <td>NaN</td>\n      <td>NaN</td>\n    </tr>\n    <tr>\n      <th>86</th>\n      <td>Coleman, Kerry</td>\n      <td>Introduction to Business</td>\n      <td>01</td>\n      <td>60910</td>\n      <td>NaN</td>\n      <td>NaN</td>\n      <td>NaN</td>\n      <td>NaN</td>\n      <td>NaN</td>\n      <td>NaN</td>\n      <td>...</td>\n      <td>0.0</td>\n      <td>0.0</td>\n      <td>0.0</td>\n      <td>0.0</td>\n      <td>0.0</td>\n      <td>0.0</td>\n      <td>0.0</td>\n      <td>NaN</td>\n      <td>NaN</td>\n      <td>NaN</td>\n    </tr>\n    <tr>\n      <th>87</th>\n      <td>McCarty, Paulette</td>\n      <td>Introduction to Business</td>\n      <td>01</td>\n      <td>60910</td>\n      <td>NaN</td>\n      <td>NaN</td>\n      <td>NaN</td>\n      <td>NaN</td>\n      <td>NaN</td>\n      <td>NaN</td>\n      <td>...</td>\n      <td>0.0</td>\n      <td>0.0</td>\n      <td>0.0</td>\n      <td>0.0</td>\n      <td>0.0</td>\n      <td>0.0</td>\n      <td>0.0</td>\n      <td>NaN</td>\n      <td>NaN</td>\n      <td>NaN</td>\n    </tr>\n    <tr>\n      <th>215</th>\n      <td>Srikrishna, Kuppuswamy</td>\n      <td>Innovation!</td>\n      <td>02</td>\n      <td>61077</td>\n      <td>NaN</td>\n      <td>NaN</td>\n      <td>NaN</td>\n      <td>NaN</td>\n      <td>NaN</td>\n      <td>NaN</td>\n      <td>...</td>\n      <td>-0.1</td>\n      <td>-0.1</td>\n      <td>0.1</td>\n      <td>0.1</td>\n      <td>-0.1</td>\n      <td>0.1</td>\n      <td>0.1</td>\n      <td>NaN</td>\n      <td>NaN</td>\n      <td>NaN</td>\n    </tr>\n    <tr>\n      <th>...</th>\n      <td>...</td>\n      <td>...</td>\n      <td>...</td>\n      <td>...</td>\n      <td>...</td>\n      <td>...</td>\n      <td>...</td>\n      <td>...</td>\n      <td>...</td>\n      <td>...</td>\n      <td>...</td>\n      <td>...</td>\n      <td>...</td>\n      <td>...</td>\n      <td>...</td>\n      <td>...</td>\n      <td>...</td>\n      <td>...</td>\n      <td>...</td>\n      <td>...</td>\n      <td>...</td>\n    </tr>\n    <tr>\n      <th>9095</th>\n      <td>Sieloff, Susan</td>\n      <td>Introduction to Marketing</td>\n      <td>07</td>\n      <td>11432</td>\n      <td>NaN</td>\n      <td>NaN</td>\n      <td>NaN</td>\n      <td>NaN</td>\n      <td>NaN</td>\n      <td>NaN</td>\n      <td>...</td>\n      <td>-1.8</td>\n      <td>-1.9</td>\n      <td>-2.2</td>\n      <td>-2.2</td>\n      <td>-2.4</td>\n      <td>-2.3</td>\n      <td>-1.9</td>\n      <td>NaN</td>\n      <td>NaN</td>\n      <td>NaN</td>\n    </tr>\n    <tr>\n      <th>9485</th>\n      <td>Aksehirli, Zeynep</td>\n      <td>Organizational Behavior</td>\n      <td>28</td>\n      <td>17566</td>\n      <td>NaN</td>\n      <td>NaN</td>\n      <td>NaN</td>\n      <td>NaN</td>\n      <td>NaN</td>\n      <td>NaN</td>\n      <td>...</td>\n      <td>-0.2</td>\n      <td>-0.3</td>\n      <td>-0.1</td>\n      <td>-0.2</td>\n      <td>-0.1</td>\n      <td>-0.2</td>\n      <td>0.0</td>\n      <td>NaN</td>\n      <td>NaN</td>\n      <td>NaN</td>\n    </tr>\n    <tr>\n      <th>9486</th>\n      <td>Myers, Elizabeth</td>\n      <td>Organizational Behavior</td>\n      <td>29</td>\n      <td>19994</td>\n      <td>NaN</td>\n      <td>NaN</td>\n      <td>NaN</td>\n      <td>NaN</td>\n      <td>NaN</td>\n      <td>NaN</td>\n      <td>...</td>\n      <td>0.2</td>\n      <td>0.3</td>\n      <td>0.1</td>\n      <td>0.4</td>\n      <td>0.2</td>\n      <td>0.3</td>\n      <td>0.1</td>\n      <td>NaN</td>\n      <td>NaN</td>\n      <td>NaN</td>\n    </tr>\n    <tr>\n      <th>10121</th>\n      <td>Power, Michael</td>\n      <td>Supply Chain  Operations Mgmt</td>\n      <td>15</td>\n      <td>18997</td>\n      <td>NaN</td>\n      <td>NaN</td>\n      <td>NaN</td>\n      <td>NaN</td>\n      <td>NaN</td>\n      <td>NaN</td>\n      <td>...</td>\n      <td>0.0</td>\n      <td>0.0</td>\n      <td>0.0</td>\n      <td>0.0</td>\n      <td>0.0</td>\n      <td>0.0</td>\n      <td>0.0</td>\n      <td>NaN</td>\n      <td>NaN</td>\n      <td>NaN</td>\n    </tr>\n    <tr>\n      <th>10222</th>\n      <td>Alessandri, Todd</td>\n      <td>Strategy in Action</td>\n      <td>11</td>\n      <td>19799</td>\n      <td>NaN</td>\n      <td>NaN</td>\n      <td>NaN</td>\n      <td>NaN</td>\n      <td>NaN</td>\n      <td>NaN</td>\n      <td>...</td>\n      <td>0.0</td>\n      <td>0.0</td>\n      <td>0.0</td>\n      <td>0.0</td>\n      <td>0.0</td>\n      <td>0.0</td>\n      <td>0.0</td>\n      <td>NaN</td>\n      <td>NaN</td>\n      <td>NaN</td>\n    </tr>\n  </tbody>\n</table>\n<p>199 rows × 54 columns</p>\n</div>"
     },
     "execution_count": 4,
     "metadata": {},
     "output_type": "execute_result"
    }
   ],
   "source": [
    "bad_traces = df[df['Online course materials were organized to help me navigate th…'].isna()]\n",
    "bad_traces"
   ],
   "metadata": {
    "collapsed": false,
    "ExecuteTime": {
     "end_time": "2024-11-12T14:53:20.905864Z",
     "start_time": "2024-11-12T14:53:20.873457Z"
    }
   },
   "id": "289c46056bce6648"
  },
  {
   "cell_type": "markdown",
   "source": [
    "### Make a CSV with All Surveys and then Export"
   ],
   "metadata": {
    "collapsed": false
   },
   "id": "ba65b248e56dba5b"
  },
  {
   "cell_type": "code",
   "execution_count": 5,
   "outputs": [],
   "source": [
    "# now replace the NaNs with 0\n",
    "total_df = df.fillna(0)\n",
    "\n",
    "# create a new column that sums all the question columns and makes a new one that is the total score\n",
    "total_df['Professor Score'] = round(total_df.iloc[:, 4:].sum(axis=1), 1)\n",
    "\n",
    "# export the csv with all surveys\n",
    "total_df.to_csv('trace_data_stores/All Section 3 Trace Surveys.csv', index=False)"
   ],
   "metadata": {
    "collapsed": false,
    "ExecuteTime": {
     "end_time": "2024-11-12T14:53:34.427760Z",
     "start_time": "2024-11-12T14:53:34.134823Z"
    }
   },
   "id": "70c7e5180b890dd6"
  },
  {
   "cell_type": "markdown",
   "source": [
    "### Make a CSV without the Surveys Causing NANs and then Export"
   ],
   "metadata": {
    "collapsed": false
   },
   "id": "ae9e172a5567f1d9"
  },
  {
   "cell_type": "code",
   "execution_count": 6,
   "outputs": [],
   "source": [
    "# now filter the dataframe to remove the surveys we don't want\n",
    "cleaned_df = df[~df.index.isin(bad_traces.index)]\n",
    "\n",
    "# remove the columns that are causing NANs\n",
    "cleaned_df = cleaned_df.iloc[:, :23]\n",
    "\n",
    "# now sum to get the total score\n",
    "cleaned_df['Professor Score'] = round(cleaned_df.iloc[:, 4:].sum(axis=1), 1)\n",
    "\n",
    "# export to a csv with the filtered dataframe\n",
    "cleaned_df.to_csv('trace_data_stores/Filtered Section 3 Trace Surveys.csv', index=False)"
   ],
   "metadata": {
    "collapsed": false,
    "ExecuteTime": {
     "end_time": "2024-11-12T14:53:43.774214Z",
     "start_time": "2024-11-12T14:53:43.620611Z"
    }
   },
   "id": "a761d3770f8a4e97"
  },
  {
   "cell_type": "code",
   "execution_count": 15,
   "outputs": [],
   "source": [],
   "metadata": {
    "collapsed": false,
    "ExecuteTime": {
     "end_time": "2024-11-11T15:41:45.755711Z",
     "start_time": "2024-11-11T15:41:45.753491Z"
    }
   },
   "id": "f415535eb2193054"
  }
 ],
 "metadata": {
  "kernelspec": {
   "display_name": "Python 3",
   "language": "python",
   "name": "python3"
  },
  "language_info": {
   "codemirror_mode": {
    "name": "ipython",
    "version": 2
   },
   "file_extension": ".py",
   "mimetype": "text/x-python",
   "name": "python",
   "nbconvert_exporter": "python",
   "pygments_lexer": "ipython2",
   "version": "2.7.6"
  }
 },
 "nbformat": 4,
 "nbformat_minor": 5
}
