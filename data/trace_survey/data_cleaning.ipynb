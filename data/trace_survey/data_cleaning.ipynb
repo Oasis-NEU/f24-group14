{
 "cells": [
  {
   "cell_type": "markdown",
   "id": "5f30901bb4608ac",
   "metadata": {
    "collapsed": false
   },
   "source": [
    "#### Cleaning the Dataframe"
   ]
  },
  {
   "cell_type": "code",
   "execution_count": 1,
   "id": "f2a3cf496e4b69ac",
   "metadata": {
    "collapsed": false,
    "ExecuteTime": {
     "end_time": "2024-11-17T14:59:21.844507Z",
     "start_time": "2024-11-17T14:59:21.208122Z"
    }
   },
   "outputs": [],
   "source": [
    "# read in the dataframe\n",
    "import pandas as pd\n",
    "df = pd.read_csv('trace_data_stores/Section 4 Trace Surveys.csv')"
   ]
  },
  {
   "cell_type": "markdown",
   "id": "138f1433634bd8f1",
   "metadata": {
    "collapsed": false
   },
   "source": [
    "### Observing NAN Values"
   ]
  },
  {
   "cell_type": "code",
   "execution_count": 2,
   "id": "e907f639c29f73bf",
   "metadata": {
    "collapsed": false,
    "ExecuteTime": {
     "end_time": "2024-11-17T14:59:23.840656Z",
     "start_time": "2024-11-17T14:59:23.814019Z"
    }
   },
   "outputs": [
    {
     "name": "stdout",
     "output_type": "stream",
     "text": [
      "Total NaN values: 297480\n",
      "NaN values per column:\n",
      " Instructor                                                                 0\n",
      "Course Title                                                               0\n",
      "Section                                                                    0\n",
      "Course ID                                                                  0\n",
      "Online course materials were organized to help me navigate th…           194\n",
      "Online interactions with my instructor created a sense of conne…         194\n",
      "Online course interactions created a sense of community and…             194\n",
      "I had the necessary computer skills and technology to success…           194\n",
      "The syllabus was accurate and helpful in delineating expectati…          194\n",
      "Required and additional course materials were helpful in achie…          194\n",
      "In-class sessions were helpful for learning.                             194\n",
      "Out-of-class assignments and/or fieldwork were helpful for lear…         194\n",
      "This course was intellectually challenging.                              194\n",
      "I learned a lot in this course.                                            0\n",
      "The instructor came to class prepared to teach.                          194\n",
      "The instructor used class time effectively.                              194\n",
      "The instructor clearly communicated ideas and information.               194\n",
      "The instructor provided sufficient feedback.                             194\n",
      "The instructor fairly evaluated my performance.                          194\n",
      "The instructor was available to assist students outside of class.        194\n",
      "The instructor facilitated a respectful and inclusive learning env…      194\n",
      "The instructor displayed enthusiasm for the course.                      194\n",
      "What is your overall rating of this instructor's teaching effective…     194\n",
      "The Syllabus Provided a clear description of course goals and…          9465\n",
      "The textbook(s) helped me to learn.                                     9465\n",
      "The materials used in this course (lectures, videos, ect.) were…        9465\n",
      "The assignments and fieldwork helped me to learn.                       9465\n",
      "The lectures helped me to learn.                                        9465\n",
      "The course discussions and activities helped me to learn.               9465\n",
      "The technology used in this course helped me to learn                   9465\n",
      "I found this course intellectually challenging.                         9465\n",
      "I would recommend this course to other students.                        9465\n",
      "I learned to apply course concepts and principles.                      9465\n",
      "I developed additional communication skills in this course.             9465\n",
      "I learned to analyze and evaluate ideas, arguments, and points…         9465\n",
      "Working with my classmates in this course helped me to learn.           9465\n",
      "I had the necessary technological skills for this course.               9465\n",
      "Technical support was available when needed.                            9465\n",
      "The amount of interaction with the lead instructor met my learn…        9465\n",
      "The lead instructor clearly communicated ideas and information.         9465\n",
      "The lead instructor demonstrated expertise in the subject matter.       9465\n",
      "The lead instructor clearly stated the objectives of the course.        9465\n",
      "The lead instructor covered material stated in the course objec…        9465\n",
      "The section instructor fairly evaluated my performance.                 9465\n",
      "The section instructor provided feedback that was timely and v…         9465\n",
      "I would recommend this section instructor to other students.            9465\n",
      "The section instructor treated students with respect.                   9465\n",
      "The section instructor acknowledged and took effective action…          9465\n",
      "The section instructor was able to address my content questio…          9465\n",
      "The section instructor displayed enthusiasm for the course.             9465\n",
      "The amount of interaction with my section instructor met my le…         9465\n",
      "How would you rate the use of guest speakers in this course?            9655\n",
      "How would you rate the quality of our class discussions?                9655\n",
      "How would you rate the use guest speakers in this course?               9658\n",
      "dtype: int64\n"
     ]
    }
   ],
   "source": [
    "# look at the NAN values in the entire DataFrame and per column\n",
    "total_nan = df.isna().sum().sum()\n",
    "nan_per_column = df.isna().sum()\n",
    "\n",
    "print(\"Total NaN values:\", total_nan)\n",
    "print(\"NaN values per column:\\n\", nan_per_column)"
   ]
  },
  {
   "cell_type": "markdown",
   "id": "8e617bd62506c595",
   "metadata": {
    "collapsed": false
   },
   "source": [
    "### Observing which Trace Surveys are Causing NANs"
   ]
  },
  {
   "cell_type": "code",
   "execution_count": 3,
   "id": "289c46056bce6648",
   "metadata": {
    "collapsed": false,
    "ExecuteTime": {
     "end_time": "2024-11-17T14:59:28.630130Z",
     "start_time": "2024-11-17T14:59:28.578476Z"
    }
   },
   "outputs": [
    {
     "data": {
      "text/plain": "              Instructor                   Course Title Section  Course ID  \\\n26        Russo, Anthony  Financl Accounting  Reporting      01      61313   \n27         Ruff, Michael  Financl Accounting  Reporting      03      61373   \n86     McCarty, Paulette       Introduction to Business      01      61314   \n87    Muscolino, Vincent       Introduction to Business      01      61314   \n88        Coleman, Kerry       Introduction to Business      02      61374   \n...                  ...                            ...     ...        ...   \n8450  McCullough, Robert      Introduction to Marketing      06      11613   \n8451      Sieloff, Susan      Introduction to Marketing      06      11613   \n8452   Wright, Frederick      Introduction to Marketing      07      11637   \n8453      Sieloff, Susan      Introduction to Marketing      07      11637   \n8782      Steere, Robert        Organizational Behavior      28      19678   \n\n      Online course materials were organized to help me navigate th…  \\\n26                                                  NaN                \n27                                                  NaN                \n86                                                  NaN                \n87                                                  NaN                \n88                                                  NaN                \n...                                                 ...                \n8450                                                NaN                \n8451                                                NaN                \n8452                                                NaN                \n8453                                                NaN                \n8782                                                NaN                \n\n      Online interactions with my instructor created a sense of conne…  \\\n26                                                  NaN                  \n27                                                  NaN                  \n86                                                  NaN                  \n87                                                  NaN                  \n88                                                  NaN                  \n...                                                 ...                  \n8450                                                NaN                  \n8451                                                NaN                  \n8452                                                NaN                  \n8453                                                NaN                  \n8782                                                NaN                  \n\n      Online course interactions created a sense of community and…  \\\n26                                                  NaN              \n27                                                  NaN              \n86                                                  NaN              \n87                                                  NaN              \n88                                                  NaN              \n...                                                 ...              \n8450                                                NaN              \n8451                                                NaN              \n8452                                                NaN              \n8453                                                NaN              \n8782                                                NaN              \n\n      I had the necessary computer skills and technology to success…  \\\n26                                                  NaN                \n27                                                  NaN                \n86                                                  NaN                \n87                                                  NaN                \n88                                                  NaN                \n...                                                 ...                \n8450                                                NaN                \n8451                                                NaN                \n8452                                                NaN                \n8453                                                NaN                \n8782                                                NaN                \n\n      The syllabus was accurate and helpful in delineating expectati…  \\\n26                                                  NaN                 \n27                                                  NaN                 \n86                                                  NaN                 \n87                                                  NaN                 \n88                                                  NaN                 \n...                                                 ...                 \n8450                                                NaN                 \n8451                                                NaN                 \n8452                                                NaN                 \n8453                                                NaN                 \n8782                                                NaN                 \n\n      Required and additional course materials were helpful in achie…  ...  \\\n26                                                  NaN                ...   \n27                                                  NaN                ...   \n86                                                  NaN                ...   \n87                                                  NaN                ...   \n88                                                  NaN                ...   \n...                                                 ...                ...   \n8450                                                NaN                ...   \n8451                                                NaN                ...   \n8452                                                NaN                ...   \n8453                                                NaN                ...   \n8782                                                NaN                ...   \n\n      The section instructor provided feedback that was timely and v…  \\\n26                                                  0.1                 \n27                                                 -0.1                 \n86                                                 -0.1                 \n87                                                 -0.1                 \n88                                                  0.0                 \n...                                                 ...                 \n8450                                                0.1                 \n8451                                                0.1                 \n8452                                                0.8                 \n8453                                                0.8                 \n8782                                                0.0                 \n\n      I would recommend this section instructor to other students.  \\\n26                                                 -0.3              \n27                                                  0.1              \n86                                                  0.1              \n87                                                  0.1              \n88                                                  0.3              \n...                                                 ...              \n8450                                               -0.3              \n8451                                               -0.3              \n8452                                                1.0              \n8453                                                1.0              \n8782                                                0.0              \n\n      The section instructor treated students with respect.  \\\n26                                                 -0.1       \n27                                                  0.0       \n86                                                  0.1       \n87                                                  0.1       \n88                                                 -0.1       \n...                                                 ...       \n8450                                                0.7       \n8451                                                0.7       \n8452                                                0.4       \n8453                                                0.4       \n8782                                                0.0       \n\n      The section instructor acknowledged and took effective action…  \\\n26                                                  0.2                \n27                                                  0.0                \n86                                                  0.1                \n87                                                  0.1                \n88                                                  0.0                \n...                                                 ...                \n8450                                                0.1                \n8451                                                0.1                \n8452                                                0.1                \n8453                                                0.1                \n8782                                                0.0                \n\n      The section instructor was able to address my content questio…  \\\n26                                                  0.0                \n27                                                  0.1                \n86                                                  0.3                \n87                                                  0.3                \n88                                                 -0.2                \n...                                                 ...                \n8450                                                0.3                \n8451                                                0.3                \n8452                                                0.3                \n8453                                                0.3                \n8782                                                0.0                \n\n      The section instructor displayed enthusiasm for the course.  \\\n26                                                  0.1             \n27                                                  0.0             \n86                                                  0.1             \n87                                                  0.1             \n88                                                  0.0             \n...                                                 ...             \n8450                                                0.5             \n8451                                                0.5             \n8452                                                0.6             \n8453                                                0.6             \n8782                                                0.0             \n\n      The amount of interaction with my section instructor met my le…  \\\n26                                                  0.0                 \n27                                                  0.0                 \n86                                                  0.1                 \n87                                                  0.1                 \n88                                                  0.0                 \n...                                                 ...                 \n8450                                               -0.4                 \n8451                                               -0.4                 \n8452                                                0.9                 \n8453                                                0.9                 \n8782                                                0.0                 \n\n      How would you rate the use of guest speakers in this course?  \\\n26                                                  NaN              \n27                                                  NaN              \n86                                                  NaN              \n87                                                  NaN              \n88                                                  NaN              \n...                                                 ...              \n8450                                                NaN              \n8451                                                NaN              \n8452                                                NaN              \n8453                                                NaN              \n8782                                                NaN              \n\n      How would you rate the quality of our class discussions?  \\\n26                                                  NaN          \n27                                                  NaN          \n86                                                  NaN          \n87                                                  NaN          \n88                                                  NaN          \n...                                                 ...          \n8450                                                NaN          \n8451                                                NaN          \n8452                                                NaN          \n8453                                                NaN          \n8782                                                NaN          \n\n      How would you rate the use guest speakers in this course?  \n26                                                  NaN          \n27                                                  NaN          \n86                                                  NaN          \n87                                                  NaN          \n88                                                  NaN          \n...                                                 ...          \n8450                                                NaN          \n8451                                                NaN          \n8452                                                NaN          \n8453                                                NaN          \n8782                                                NaN          \n\n[194 rows x 54 columns]",
      "text/html": "<div>\n<style scoped>\n    .dataframe tbody tr th:only-of-type {\n        vertical-align: middle;\n    }\n\n    .dataframe tbody tr th {\n        vertical-align: top;\n    }\n\n    .dataframe thead th {\n        text-align: right;\n    }\n</style>\n<table border=\"1\" class=\"dataframe\">\n  <thead>\n    <tr style=\"text-align: right;\">\n      <th></th>\n      <th>Instructor</th>\n      <th>Course Title</th>\n      <th>Section</th>\n      <th>Course ID</th>\n      <th>Online course materials were organized to help me navigate th…</th>\n      <th>Online interactions with my instructor created a sense of conne…</th>\n      <th>Online course interactions created a sense of community and…</th>\n      <th>I had the necessary computer skills and technology to success…</th>\n      <th>The syllabus was accurate and helpful in delineating expectati…</th>\n      <th>Required and additional course materials were helpful in achie…</th>\n      <th>...</th>\n      <th>The section instructor provided feedback that was timely and v…</th>\n      <th>I would recommend this section instructor to other students.</th>\n      <th>The section instructor treated students with respect.</th>\n      <th>The section instructor acknowledged and took effective action…</th>\n      <th>The section instructor was able to address my content questio…</th>\n      <th>The section instructor displayed enthusiasm for the course.</th>\n      <th>The amount of interaction with my section instructor met my le…</th>\n      <th>How would you rate the use of guest speakers in this course?</th>\n      <th>How would you rate the quality of our class discussions?</th>\n      <th>How would you rate the use guest speakers in this course?</th>\n    </tr>\n  </thead>\n  <tbody>\n    <tr>\n      <th>26</th>\n      <td>Russo, Anthony</td>\n      <td>Financl Accounting  Reporting</td>\n      <td>01</td>\n      <td>61313</td>\n      <td>NaN</td>\n      <td>NaN</td>\n      <td>NaN</td>\n      <td>NaN</td>\n      <td>NaN</td>\n      <td>NaN</td>\n      <td>...</td>\n      <td>0.1</td>\n      <td>-0.3</td>\n      <td>-0.1</td>\n      <td>0.2</td>\n      <td>0.0</td>\n      <td>0.1</td>\n      <td>0.0</td>\n      <td>NaN</td>\n      <td>NaN</td>\n      <td>NaN</td>\n    </tr>\n    <tr>\n      <th>27</th>\n      <td>Ruff, Michael</td>\n      <td>Financl Accounting  Reporting</td>\n      <td>03</td>\n      <td>61373</td>\n      <td>NaN</td>\n      <td>NaN</td>\n      <td>NaN</td>\n      <td>NaN</td>\n      <td>NaN</td>\n      <td>NaN</td>\n      <td>...</td>\n      <td>-0.1</td>\n      <td>0.1</td>\n      <td>0.0</td>\n      <td>0.0</td>\n      <td>0.1</td>\n      <td>0.0</td>\n      <td>0.0</td>\n      <td>NaN</td>\n      <td>NaN</td>\n      <td>NaN</td>\n    </tr>\n    <tr>\n      <th>86</th>\n      <td>McCarty, Paulette</td>\n      <td>Introduction to Business</td>\n      <td>01</td>\n      <td>61314</td>\n      <td>NaN</td>\n      <td>NaN</td>\n      <td>NaN</td>\n      <td>NaN</td>\n      <td>NaN</td>\n      <td>NaN</td>\n      <td>...</td>\n      <td>-0.1</td>\n      <td>0.1</td>\n      <td>0.1</td>\n      <td>0.1</td>\n      <td>0.3</td>\n      <td>0.1</td>\n      <td>0.1</td>\n      <td>NaN</td>\n      <td>NaN</td>\n      <td>NaN</td>\n    </tr>\n    <tr>\n      <th>87</th>\n      <td>Muscolino, Vincent</td>\n      <td>Introduction to Business</td>\n      <td>01</td>\n      <td>61314</td>\n      <td>NaN</td>\n      <td>NaN</td>\n      <td>NaN</td>\n      <td>NaN</td>\n      <td>NaN</td>\n      <td>NaN</td>\n      <td>...</td>\n      <td>-0.1</td>\n      <td>0.1</td>\n      <td>0.1</td>\n      <td>0.1</td>\n      <td>0.3</td>\n      <td>0.1</td>\n      <td>0.1</td>\n      <td>NaN</td>\n      <td>NaN</td>\n      <td>NaN</td>\n    </tr>\n    <tr>\n      <th>88</th>\n      <td>Coleman, Kerry</td>\n      <td>Introduction to Business</td>\n      <td>02</td>\n      <td>61374</td>\n      <td>NaN</td>\n      <td>NaN</td>\n      <td>NaN</td>\n      <td>NaN</td>\n      <td>NaN</td>\n      <td>NaN</td>\n      <td>...</td>\n      <td>0.0</td>\n      <td>0.3</td>\n      <td>-0.1</td>\n      <td>0.0</td>\n      <td>-0.2</td>\n      <td>0.0</td>\n      <td>0.0</td>\n      <td>NaN</td>\n      <td>NaN</td>\n      <td>NaN</td>\n    </tr>\n    <tr>\n      <th>...</th>\n      <td>...</td>\n      <td>...</td>\n      <td>...</td>\n      <td>...</td>\n      <td>...</td>\n      <td>...</td>\n      <td>...</td>\n      <td>...</td>\n      <td>...</td>\n      <td>...</td>\n      <td>...</td>\n      <td>...</td>\n      <td>...</td>\n      <td>...</td>\n      <td>...</td>\n      <td>...</td>\n      <td>...</td>\n      <td>...</td>\n      <td>...</td>\n      <td>...</td>\n      <td>...</td>\n    </tr>\n    <tr>\n      <th>8450</th>\n      <td>McCullough, Robert</td>\n      <td>Introduction to Marketing</td>\n      <td>06</td>\n      <td>11613</td>\n      <td>NaN</td>\n      <td>NaN</td>\n      <td>NaN</td>\n      <td>NaN</td>\n      <td>NaN</td>\n      <td>NaN</td>\n      <td>...</td>\n      <td>0.1</td>\n      <td>-0.3</td>\n      <td>0.7</td>\n      <td>0.1</td>\n      <td>0.3</td>\n      <td>0.5</td>\n      <td>-0.4</td>\n      <td>NaN</td>\n      <td>NaN</td>\n      <td>NaN</td>\n    </tr>\n    <tr>\n      <th>8451</th>\n      <td>Sieloff, Susan</td>\n      <td>Introduction to Marketing</td>\n      <td>06</td>\n      <td>11613</td>\n      <td>NaN</td>\n      <td>NaN</td>\n      <td>NaN</td>\n      <td>NaN</td>\n      <td>NaN</td>\n      <td>NaN</td>\n      <td>...</td>\n      <td>0.1</td>\n      <td>-0.3</td>\n      <td>0.7</td>\n      <td>0.1</td>\n      <td>0.3</td>\n      <td>0.5</td>\n      <td>-0.4</td>\n      <td>NaN</td>\n      <td>NaN</td>\n      <td>NaN</td>\n    </tr>\n    <tr>\n      <th>8452</th>\n      <td>Wright, Frederick</td>\n      <td>Introduction to Marketing</td>\n      <td>07</td>\n      <td>11637</td>\n      <td>NaN</td>\n      <td>NaN</td>\n      <td>NaN</td>\n      <td>NaN</td>\n      <td>NaN</td>\n      <td>NaN</td>\n      <td>...</td>\n      <td>0.8</td>\n      <td>1.0</td>\n      <td>0.4</td>\n      <td>0.1</td>\n      <td>0.3</td>\n      <td>0.6</td>\n      <td>0.9</td>\n      <td>NaN</td>\n      <td>NaN</td>\n      <td>NaN</td>\n    </tr>\n    <tr>\n      <th>8453</th>\n      <td>Sieloff, Susan</td>\n      <td>Introduction to Marketing</td>\n      <td>07</td>\n      <td>11637</td>\n      <td>NaN</td>\n      <td>NaN</td>\n      <td>NaN</td>\n      <td>NaN</td>\n      <td>NaN</td>\n      <td>NaN</td>\n      <td>...</td>\n      <td>0.8</td>\n      <td>1.0</td>\n      <td>0.4</td>\n      <td>0.1</td>\n      <td>0.3</td>\n      <td>0.6</td>\n      <td>0.9</td>\n      <td>NaN</td>\n      <td>NaN</td>\n      <td>NaN</td>\n    </tr>\n    <tr>\n      <th>8782</th>\n      <td>Steere, Robert</td>\n      <td>Organizational Behavior</td>\n      <td>28</td>\n      <td>19678</td>\n      <td>NaN</td>\n      <td>NaN</td>\n      <td>NaN</td>\n      <td>NaN</td>\n      <td>NaN</td>\n      <td>NaN</td>\n      <td>...</td>\n      <td>0.0</td>\n      <td>0.0</td>\n      <td>0.0</td>\n      <td>0.0</td>\n      <td>0.0</td>\n      <td>0.0</td>\n      <td>0.0</td>\n      <td>NaN</td>\n      <td>NaN</td>\n      <td>NaN</td>\n    </tr>\n  </tbody>\n</table>\n<p>194 rows × 54 columns</p>\n</div>"
     },
     "execution_count": 3,
     "metadata": {},
     "output_type": "execute_result"
    }
   ],
   "source": [
    "bad_traces = df[df['Online course materials were organized to help me navigate th…'].isna()]\n",
    "bad_traces"
   ]
  },
  {
   "cell_type": "markdown",
   "id": "ba65b248e56dba5b",
   "metadata": {
    "collapsed": false
   },
   "source": [
    "### Make a CSV with All Surveys and then Export"
   ]
  },
  {
   "cell_type": "code",
   "execution_count": 4,
   "id": "70c7e5180b890dd6",
   "metadata": {
    "collapsed": false,
    "ExecuteTime": {
     "end_time": "2024-11-17T14:59:44.420764Z",
     "start_time": "2024-11-17T14:59:44.347703Z"
    }
   },
   "outputs": [],
   "source": [
    "# now replace the NaNs with 0\n",
    "total_df = df.fillna(0)\n",
    "\n",
    "# create a new column that sums all the question columns and makes a new one that is the total score\n",
    "total_df['Professor Score'] = round(total_df.iloc[:, 4:].sum(axis=1), 1)\n",
    "\n",
    "# remove unneeded columns; change column names; export the csv with all surveys\n",
    "total_df = total_df.iloc[:, [0, 1, 3, -1]]\n",
    "total_df.columns = ['instructor', 'course_title', 'course_id', 'professor_score']\n",
    "# total_df.to_csv('trace_data_stores/All Section 4 Trace Surveys.csv', index=False)"
   ]
  },
  {
   "cell_type": "markdown",
   "id": "ae9e172a5567f1d9",
   "metadata": {
    "collapsed": false
   },
   "source": [
    "### Make a CSV without the Surveys Causing NANs and then Export"
   ]
  },
  {
   "cell_type": "code",
   "execution_count": 5,
   "id": "a761d3770f8a4e97",
   "metadata": {
    "collapsed": false,
    "ExecuteTime": {
     "end_time": "2024-11-17T14:59:47.473823Z",
     "start_time": "2024-11-17T14:59:47.441646Z"
    }
   },
   "outputs": [],
   "source": [
    "# now filter the dataframe to remove the surveys we don't want\n",
    "cleaned_df = df[~df.index.isin(bad_traces.index)]\n",
    "\n",
    "# remove the columns that are causing NANs\n",
    "cleaned_df = cleaned_df.iloc[:, :23]\n",
    "\n",
    "# now sum to get the total score\n",
    "cleaned_df['Professor Score'] = round(cleaned_df.iloc[:, 4:].sum(axis=1), 1)\n",
    "\n",
    "# remove unneeded columns; change column names; export to a csv with the filtered dataframe\n",
    "cleaned_df = cleaned_df.iloc[:, [0, 1, 3, -1]]\n",
    "cleaned_df.columns = ['instructor', 'course_title', 'course_id', 'professor_score']\n",
    "# cleaned_df.to_csv('trace_data_stores/Filtered Section 4 Trace Surveys.csv', index=False)"
   ]
  },
  {
   "cell_type": "code",
   "execution_count": 21,
   "id": "f415535eb2193054",
   "metadata": {
    "collapsed": false,
    "ExecuteTime": {
     "end_time": "2024-11-16T17:44:49.209528Z",
     "start_time": "2024-11-16T17:44:49.137888Z"
    }
   },
   "outputs": [],
   "source": []
  }
 ],
 "metadata": {
  "kernelspec": {
   "display_name": "Python 3",
   "language": "python",
   "name": "python3"
  },
  "language_info": {
   "codemirror_mode": {
    "name": "ipython",
    "version": 3
   },
   "file_extension": ".py",
   "mimetype": "text/x-python",
   "name": "python",
   "nbconvert_exporter": "python",
   "pygments_lexer": "ipython3",
   "version": "3.11.9"
  }
 },
 "nbformat": 4,
 "nbformat_minor": 5
}
