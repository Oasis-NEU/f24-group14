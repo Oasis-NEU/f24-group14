{
 "cells": [
  {
   "cell_type": "code",
   "execution_count": 10,
   "outputs": [
    {
     "data": {
      "text/plain": "     First Name Middle Name   Last Name       ID      Department  \\\n0         Anand         NaN   Asthagiri  2894891      Biomedical   \n1        Jelena         NaN   Golubovic  2961788    Anthropology   \n2       Faizul          NaN         Huq  2854044        Business   \n3          Juyi         NaN         Lyu  2999528        Business   \n4     Markysha          NaN      Martin  2922383      Psychology   \n...         ...         ...         ...      ...             ...   \n3485      Steve         NaN      Zoloth  2330269  Health Science   \n3486      Steve         NaN      Zoloth  2330268       Sociology   \n3487    Gregory         NaN        Zuch   540413         Writing   \n3488  Ronald C.         NaN       Zullo  1393308      Accounting   \n3489    Günther         K.H      Zupanc  1886247         Biology   \n\n             Institution Name  Institution ID  Number of Ratings  \\\n0     Northeastern University             696                1.0   \n1     Northeastern University             696                0.0   \n2     Northeastern University             696                7.0   \n3     Northeastern University             696                0.0   \n4     Northeastern University             696                0.0   \n...                       ...             ...                ...   \n3485  Northeastern University             696                0.0   \n3486  Northeastern University             696                2.0   \n3487  Northeastern University             696               26.0   \n3488  Northeastern University             696               37.0   \n3489  Northeastern University             696               11.0   \n\n      Average Rating (Out of 5)  Would Take Again (Percent)  \\\n0                           5.0                        1.00   \n1                           NaN                         NaN   \n2                           2.6                        0.43   \n3                           NaN                         NaN   \n4                           NaN                         NaN   \n...                         ...                         ...   \n3485                        NaN                         NaN   \n3486                        4.0                        1.00   \n3487                        4.3                        0.50   \n3488                        3.4                        0.54   \n3489                        2.7                        0.46   \n\n      Level of Difficulty (Out of 5)  \\\n0                                3.0   \n1                                NaN   \n2                                4.0   \n3                                NaN   \n4                                NaN   \n...                              ...   \n3485                             NaN   \n3486                             3.5   \n3487                             2.5   \n3488                             3.9   \n3489                             2.6   \n\n                                           Popular Tags  \\\n0     ['Amazing lectures', 'Inspirational', 'Accessi...   \n1                                                    []   \n2     ['Tough grader', 'Participation matters', 'Gro...   \n3                          ['Accessible outside class']   \n4                                                    []   \n...                                                 ...   \n3485                                                 []   \n3486  ['Get ready to read', 'Participation matters',...   \n3487  ['Caring', 'Clear grading criteria', 'Gives go...   \n3488  ['Tough grader', 'Group projects', 'Participat...   \n3489  ['Graded by few things', \"Skip class? You won'...   \n\n                                                Reviews  \n0           Attendance Clarity (color) Easy (color) ...  \n1               Empty DataFrame\\nColumns: []\\nIndex: []  \n2           Attendance Clarity (color) Easy (color) ...  \n3               Empty DataFrame\\nColumns: []\\nIndex: []  \n4               Empty DataFrame\\nColumns: []\\nIndex: []  \n...                                                 ...  \n3485            Empty DataFrame\\nColumns: []\\nIndex: []  \n3486    Attendance Clarity (color) Easy (color) Help...  \n3487         Attendance Clarity (color) Easy (color)...  \n3488     Attendance Clarity (color) Easy (color) Hel...  \n3489         Attendance Clarity (color) Easy (color)...  \n\n[3490 rows x 13 columns]",
      "text/html": "<div>\n<style scoped>\n    .dataframe tbody tr th:only-of-type {\n        vertical-align: middle;\n    }\n\n    .dataframe tbody tr th {\n        vertical-align: top;\n    }\n\n    .dataframe thead th {\n        text-align: right;\n    }\n</style>\n<table border=\"1\" class=\"dataframe\">\n  <thead>\n    <tr style=\"text-align: right;\">\n      <th></th>\n      <th>First Name</th>\n      <th>Middle Name</th>\n      <th>Last Name</th>\n      <th>ID</th>\n      <th>Department</th>\n      <th>Institution Name</th>\n      <th>Institution ID</th>\n      <th>Number of Ratings</th>\n      <th>Average Rating (Out of 5)</th>\n      <th>Would Take Again (Percent)</th>\n      <th>Level of Difficulty (Out of 5)</th>\n      <th>Popular Tags</th>\n      <th>Reviews</th>\n    </tr>\n  </thead>\n  <tbody>\n    <tr>\n      <th>0</th>\n      <td>Anand</td>\n      <td>NaN</td>\n      <td>Asthagiri</td>\n      <td>2894891</td>\n      <td>Biomedical</td>\n      <td>Northeastern University</td>\n      <td>696</td>\n      <td>1.0</td>\n      <td>5.0</td>\n      <td>1.00</td>\n      <td>3.0</td>\n      <td>['Amazing lectures', 'Inspirational', 'Accessi...</td>\n      <td>Attendance Clarity (color) Easy (color) ...</td>\n    </tr>\n    <tr>\n      <th>1</th>\n      <td>Jelena</td>\n      <td>NaN</td>\n      <td>Golubovic</td>\n      <td>2961788</td>\n      <td>Anthropology</td>\n      <td>Northeastern University</td>\n      <td>696</td>\n      <td>0.0</td>\n      <td>NaN</td>\n      <td>NaN</td>\n      <td>NaN</td>\n      <td>[]</td>\n      <td>Empty DataFrame\\nColumns: []\\nIndex: []</td>\n    </tr>\n    <tr>\n      <th>2</th>\n      <td>Faizul</td>\n      <td>NaN</td>\n      <td>Huq</td>\n      <td>2854044</td>\n      <td>Business</td>\n      <td>Northeastern University</td>\n      <td>696</td>\n      <td>7.0</td>\n      <td>2.6</td>\n      <td>0.43</td>\n      <td>4.0</td>\n      <td>['Tough grader', 'Participation matters', 'Gro...</td>\n      <td>Attendance Clarity (color) Easy (color) ...</td>\n    </tr>\n    <tr>\n      <th>3</th>\n      <td>Juyi</td>\n      <td>NaN</td>\n      <td>Lyu</td>\n      <td>2999528</td>\n      <td>Business</td>\n      <td>Northeastern University</td>\n      <td>696</td>\n      <td>0.0</td>\n      <td>NaN</td>\n      <td>NaN</td>\n      <td>NaN</td>\n      <td>['Accessible outside class']</td>\n      <td>Empty DataFrame\\nColumns: []\\nIndex: []</td>\n    </tr>\n    <tr>\n      <th>4</th>\n      <td>Markysha</td>\n      <td>NaN</td>\n      <td>Martin</td>\n      <td>2922383</td>\n      <td>Psychology</td>\n      <td>Northeastern University</td>\n      <td>696</td>\n      <td>0.0</td>\n      <td>NaN</td>\n      <td>NaN</td>\n      <td>NaN</td>\n      <td>[]</td>\n      <td>Empty DataFrame\\nColumns: []\\nIndex: []</td>\n    </tr>\n    <tr>\n      <th>...</th>\n      <td>...</td>\n      <td>...</td>\n      <td>...</td>\n      <td>...</td>\n      <td>...</td>\n      <td>...</td>\n      <td>...</td>\n      <td>...</td>\n      <td>...</td>\n      <td>...</td>\n      <td>...</td>\n      <td>...</td>\n      <td>...</td>\n    </tr>\n    <tr>\n      <th>3485</th>\n      <td>Steve</td>\n      <td>NaN</td>\n      <td>Zoloth</td>\n      <td>2330269</td>\n      <td>Health Science</td>\n      <td>Northeastern University</td>\n      <td>696</td>\n      <td>0.0</td>\n      <td>NaN</td>\n      <td>NaN</td>\n      <td>NaN</td>\n      <td>[]</td>\n      <td>Empty DataFrame\\nColumns: []\\nIndex: []</td>\n    </tr>\n    <tr>\n      <th>3486</th>\n      <td>Steve</td>\n      <td>NaN</td>\n      <td>Zoloth</td>\n      <td>2330268</td>\n      <td>Sociology</td>\n      <td>Northeastern University</td>\n      <td>696</td>\n      <td>2.0</td>\n      <td>4.0</td>\n      <td>1.00</td>\n      <td>3.5</td>\n      <td>['Get ready to read', 'Participation matters',...</td>\n      <td>Attendance Clarity (color) Easy (color) Help...</td>\n    </tr>\n    <tr>\n      <th>3487</th>\n      <td>Gregory</td>\n      <td>NaN</td>\n      <td>Zuch</td>\n      <td>540413</td>\n      <td>Writing</td>\n      <td>Northeastern University</td>\n      <td>696</td>\n      <td>26.0</td>\n      <td>4.3</td>\n      <td>0.50</td>\n      <td>2.5</td>\n      <td>['Caring', 'Clear grading criteria', 'Gives go...</td>\n      <td>Attendance Clarity (color) Easy (color)...</td>\n    </tr>\n    <tr>\n      <th>3488</th>\n      <td>Ronald C.</td>\n      <td>NaN</td>\n      <td>Zullo</td>\n      <td>1393308</td>\n      <td>Accounting</td>\n      <td>Northeastern University</td>\n      <td>696</td>\n      <td>37.0</td>\n      <td>3.4</td>\n      <td>0.54</td>\n      <td>3.9</td>\n      <td>['Tough grader', 'Group projects', 'Participat...</td>\n      <td>Attendance Clarity (color) Easy (color) Hel...</td>\n    </tr>\n    <tr>\n      <th>3489</th>\n      <td>Günther</td>\n      <td>K.H</td>\n      <td>Zupanc</td>\n      <td>1886247</td>\n      <td>Biology</td>\n      <td>Northeastern University</td>\n      <td>696</td>\n      <td>11.0</td>\n      <td>2.7</td>\n      <td>0.46</td>\n      <td>2.6</td>\n      <td>['Graded by few things', \"Skip class? You won'...</td>\n      <td>Attendance Clarity (color) Easy (color)...</td>\n    </tr>\n  </tbody>\n</table>\n<p>3490 rows × 13 columns</p>\n</div>"
     },
     "execution_count": 10,
     "metadata": {},
     "output_type": "execute_result"
    }
   ],
   "source": [
    "import pandas as pd\n",
    "df = pd.read_csv('neu_rmp.csv')\n",
    "df"
   ],
   "metadata": {
    "collapsed": false,
    "ExecuteTime": {
     "end_time": "2024-10-05T02:30:03.938658Z",
     "start_time": "2024-10-05T02:30:03.799629Z"
    }
   },
   "id": "6a01397a79e1cafb"
  },
  {
   "cell_type": "code",
   "execution_count": null,
   "outputs": [],
   "source": [],
   "metadata": {
    "collapsed": false
   },
   "id": "df02946a61349696"
  }
 ],
 "metadata": {
  "kernelspec": {
   "display_name": "Python 3",
   "language": "python",
   "name": "python3"
  },
  "language_info": {
   "codemirror_mode": {
    "name": "ipython",
    "version": 2
   },
   "file_extension": ".py",
   "mimetype": "text/x-python",
   "name": "python",
   "nbconvert_exporter": "python",
   "pygments_lexer": "ipython2",
   "version": "2.7.6"
  }
 },
 "nbformat": 4,
 "nbformat_minor": 5
}
